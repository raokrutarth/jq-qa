{
  "nbformat": 4,
  "nbformat_minor": 0,
  "metadata": {
    "colab": {
      "name": "jd_qa_dataset_builder.ipynb",
      "provenance": [],
      "collapsed_sections": []
    },
    "kernelspec": {
      "name": "python3",
      "display_name": "Python 3"
    },
    "language_info": {
      "name": "python"
    },
    "widgets": {
      "application/vnd.jupyter.widget-state+json": {
        "1ac666d02c6a45ca972fd8e6ef4c1880": {
          "model_module": "@jupyter-widgets/controls",
          "model_name": "HBoxModel",
          "model_module_version": "1.5.0",
          "state": {
            "_view_name": "HBoxView",
            "_dom_classes": [],
            "_model_name": "HBoxModel",
            "_view_module": "@jupyter-widgets/controls",
            "_model_module_version": "1.5.0",
            "_view_count": null,
            "_view_module_version": "1.5.0",
            "box_style": "",
            "layout": "IPY_MODEL_888f8d5f75d84338a94f8206b6ea5d2e",
            "_model_module": "@jupyter-widgets/controls",
            "children": [
              "IPY_MODEL_255eaac6b860485a9f1577518631b40f",
              "IPY_MODEL_e1eaaef3dc694b3ba1ac2bd9b5cbe2d3",
              "IPY_MODEL_8c0fdce3563b481e861281db60faa112"
            ]
          }
        },
        "888f8d5f75d84338a94f8206b6ea5d2e": {
          "model_module": "@jupyter-widgets/base",
          "model_name": "LayoutModel",
          "model_module_version": "1.2.0",
          "state": {
            "_view_name": "LayoutView",
            "grid_template_rows": null,
            "right": null,
            "justify_content": null,
            "_view_module": "@jupyter-widgets/base",
            "overflow": null,
            "_model_module_version": "1.2.0",
            "_view_count": null,
            "flex_flow": null,
            "width": null,
            "min_width": null,
            "border": null,
            "align_items": null,
            "bottom": null,
            "_model_module": "@jupyter-widgets/base",
            "top": null,
            "grid_column": null,
            "overflow_y": null,
            "overflow_x": null,
            "grid_auto_flow": null,
            "grid_area": null,
            "grid_template_columns": null,
            "flex": null,
            "_model_name": "LayoutModel",
            "justify_items": null,
            "grid_row": null,
            "max_height": null,
            "align_content": null,
            "visibility": null,
            "align_self": null,
            "height": null,
            "min_height": null,
            "padding": null,
            "grid_auto_rows": null,
            "grid_gap": null,
            "max_width": null,
            "order": null,
            "_view_module_version": "1.2.0",
            "grid_template_areas": null,
            "object_position": null,
            "object_fit": null,
            "grid_auto_columns": null,
            "margin": null,
            "display": null,
            "left": null
          }
        },
        "255eaac6b860485a9f1577518631b40f": {
          "model_module": "@jupyter-widgets/controls",
          "model_name": "HTMLModel",
          "model_module_version": "1.5.0",
          "state": {
            "_view_name": "HTMLView",
            "style": "IPY_MODEL_5407ecfa7b6b470fbe26e1bc000faaff",
            "_dom_classes": [],
            "description": "",
            "_model_name": "HTMLModel",
            "placeholder": "​",
            "_view_module": "@jupyter-widgets/controls",
            "_model_module_version": "1.5.0",
            "value": "100%",
            "_view_count": null,
            "_view_module_version": "1.5.0",
            "description_tooltip": null,
            "_model_module": "@jupyter-widgets/controls",
            "layout": "IPY_MODEL_f8d401b8061c4d39aefa1cc23a53d094"
          }
        },
        "e1eaaef3dc694b3ba1ac2bd9b5cbe2d3": {
          "model_module": "@jupyter-widgets/controls",
          "model_name": "FloatProgressModel",
          "model_module_version": "1.5.0",
          "state": {
            "_view_name": "ProgressView",
            "style": "IPY_MODEL_d1a3352b63454ebdb1552d608aa9dced",
            "_dom_classes": [],
            "description": "",
            "_model_name": "FloatProgressModel",
            "bar_style": "success",
            "max": 2,
            "_view_module": "@jupyter-widgets/controls",
            "_model_module_version": "1.5.0",
            "value": 2,
            "_view_count": null,
            "_view_module_version": "1.5.0",
            "orientation": "horizontal",
            "min": 0,
            "description_tooltip": null,
            "_model_module": "@jupyter-widgets/controls",
            "layout": "IPY_MODEL_0a408ad7e2fd429e824f5b0b72c4b209"
          }
        },
        "8c0fdce3563b481e861281db60faa112": {
          "model_module": "@jupyter-widgets/controls",
          "model_name": "HTMLModel",
          "model_module_version": "1.5.0",
          "state": {
            "_view_name": "HTMLView",
            "style": "IPY_MODEL_301551413386465f900fd9e6d3216465",
            "_dom_classes": [],
            "description": "",
            "_model_name": "HTMLModel",
            "placeholder": "​",
            "_view_module": "@jupyter-widgets/controls",
            "_model_module_version": "1.5.0",
            "value": " 2/2 [00:00&lt;00:00, 60.55it/s]",
            "_view_count": null,
            "_view_module_version": "1.5.0",
            "description_tooltip": null,
            "_model_module": "@jupyter-widgets/controls",
            "layout": "IPY_MODEL_ddf4d81d921347648e5a551fe640ba53"
          }
        },
        "5407ecfa7b6b470fbe26e1bc000faaff": {
          "model_module": "@jupyter-widgets/controls",
          "model_name": "DescriptionStyleModel",
          "model_module_version": "1.5.0",
          "state": {
            "_view_name": "StyleView",
            "_model_name": "DescriptionStyleModel",
            "description_width": "",
            "_view_module": "@jupyter-widgets/base",
            "_model_module_version": "1.5.0",
            "_view_count": null,
            "_view_module_version": "1.2.0",
            "_model_module": "@jupyter-widgets/controls"
          }
        },
        "f8d401b8061c4d39aefa1cc23a53d094": {
          "model_module": "@jupyter-widgets/base",
          "model_name": "LayoutModel",
          "model_module_version": "1.2.0",
          "state": {
            "_view_name": "LayoutView",
            "grid_template_rows": null,
            "right": null,
            "justify_content": null,
            "_view_module": "@jupyter-widgets/base",
            "overflow": null,
            "_model_module_version": "1.2.0",
            "_view_count": null,
            "flex_flow": null,
            "width": null,
            "min_width": null,
            "border": null,
            "align_items": null,
            "bottom": null,
            "_model_module": "@jupyter-widgets/base",
            "top": null,
            "grid_column": null,
            "overflow_y": null,
            "overflow_x": null,
            "grid_auto_flow": null,
            "grid_area": null,
            "grid_template_columns": null,
            "flex": null,
            "_model_name": "LayoutModel",
            "justify_items": null,
            "grid_row": null,
            "max_height": null,
            "align_content": null,
            "visibility": null,
            "align_self": null,
            "height": null,
            "min_height": null,
            "padding": null,
            "grid_auto_rows": null,
            "grid_gap": null,
            "max_width": null,
            "order": null,
            "_view_module_version": "1.2.0",
            "grid_template_areas": null,
            "object_position": null,
            "object_fit": null,
            "grid_auto_columns": null,
            "margin": null,
            "display": null,
            "left": null
          }
        },
        "d1a3352b63454ebdb1552d608aa9dced": {
          "model_module": "@jupyter-widgets/controls",
          "model_name": "ProgressStyleModel",
          "model_module_version": "1.5.0",
          "state": {
            "_view_name": "StyleView",
            "_model_name": "ProgressStyleModel",
            "description_width": "",
            "_view_module": "@jupyter-widgets/base",
            "_model_module_version": "1.5.0",
            "_view_count": null,
            "_view_module_version": "1.2.0",
            "bar_color": null,
            "_model_module": "@jupyter-widgets/controls"
          }
        },
        "0a408ad7e2fd429e824f5b0b72c4b209": {
          "model_module": "@jupyter-widgets/base",
          "model_name": "LayoutModel",
          "model_module_version": "1.2.0",
          "state": {
            "_view_name": "LayoutView",
            "grid_template_rows": null,
            "right": null,
            "justify_content": null,
            "_view_module": "@jupyter-widgets/base",
            "overflow": null,
            "_model_module_version": "1.2.0",
            "_view_count": null,
            "flex_flow": null,
            "width": null,
            "min_width": null,
            "border": null,
            "align_items": null,
            "bottom": null,
            "_model_module": "@jupyter-widgets/base",
            "top": null,
            "grid_column": null,
            "overflow_y": null,
            "overflow_x": null,
            "grid_auto_flow": null,
            "grid_area": null,
            "grid_template_columns": null,
            "flex": null,
            "_model_name": "LayoutModel",
            "justify_items": null,
            "grid_row": null,
            "max_height": null,
            "align_content": null,
            "visibility": null,
            "align_self": null,
            "height": null,
            "min_height": null,
            "padding": null,
            "grid_auto_rows": null,
            "grid_gap": null,
            "max_width": null,
            "order": null,
            "_view_module_version": "1.2.0",
            "grid_template_areas": null,
            "object_position": null,
            "object_fit": null,
            "grid_auto_columns": null,
            "margin": null,
            "display": null,
            "left": null
          }
        },
        "301551413386465f900fd9e6d3216465": {
          "model_module": "@jupyter-widgets/controls",
          "model_name": "DescriptionStyleModel",
          "model_module_version": "1.5.0",
          "state": {
            "_view_name": "StyleView",
            "_model_name": "DescriptionStyleModel",
            "description_width": "",
            "_view_module": "@jupyter-widgets/base",
            "_model_module_version": "1.5.0",
            "_view_count": null,
            "_view_module_version": "1.2.0",
            "_model_module": "@jupyter-widgets/controls"
          }
        },
        "ddf4d81d921347648e5a551fe640ba53": {
          "model_module": "@jupyter-widgets/base",
          "model_name": "LayoutModel",
          "model_module_version": "1.2.0",
          "state": {
            "_view_name": "LayoutView",
            "grid_template_rows": null,
            "right": null,
            "justify_content": null,
            "_view_module": "@jupyter-widgets/base",
            "overflow": null,
            "_model_module_version": "1.2.0",
            "_view_count": null,
            "flex_flow": null,
            "width": null,
            "min_width": null,
            "border": null,
            "align_items": null,
            "bottom": null,
            "_model_module": "@jupyter-widgets/base",
            "top": null,
            "grid_column": null,
            "overflow_y": null,
            "overflow_x": null,
            "grid_auto_flow": null,
            "grid_area": null,
            "grid_template_columns": null,
            "flex": null,
            "_model_name": "LayoutModel",
            "justify_items": null,
            "grid_row": null,
            "max_height": null,
            "align_content": null,
            "visibility": null,
            "align_self": null,
            "height": null,
            "min_height": null,
            "padding": null,
            "grid_auto_rows": null,
            "grid_gap": null,
            "max_width": null,
            "order": null,
            "_view_module_version": "1.2.0",
            "grid_template_areas": null,
            "object_position": null,
            "object_fit": null,
            "grid_auto_columns": null,
            "margin": null,
            "display": null,
            "left": null
          }
        },
        "5a2e81cc8d3a4bc79498019741ad0c34": {
          "model_module": "@jupyter-widgets/controls",
          "model_name": "HBoxModel",
          "model_module_version": "1.5.0",
          "state": {
            "_view_name": "HBoxView",
            "_dom_classes": [],
            "_model_name": "HBoxModel",
            "_view_module": "@jupyter-widgets/controls",
            "_model_module_version": "1.5.0",
            "_view_count": null,
            "_view_module_version": "1.5.0",
            "box_style": "",
            "layout": "IPY_MODEL_4d0cf46983cf4e699664cdac392a839c",
            "_model_module": "@jupyter-widgets/controls",
            "children": [
              "IPY_MODEL_a38d07c6c97347fa933a3f7dc290f5f4",
              "IPY_MODEL_bc72c61184de483b8274f42e550aab51",
              "IPY_MODEL_4fad85177d134294b75b5d66cee2bf29"
            ]
          }
        },
        "4d0cf46983cf4e699664cdac392a839c": {
          "model_module": "@jupyter-widgets/base",
          "model_name": "LayoutModel",
          "model_module_version": "1.2.0",
          "state": {
            "_view_name": "LayoutView",
            "grid_template_rows": null,
            "right": null,
            "justify_content": null,
            "_view_module": "@jupyter-widgets/base",
            "overflow": null,
            "_model_module_version": "1.2.0",
            "_view_count": null,
            "flex_flow": null,
            "width": null,
            "min_width": null,
            "border": null,
            "align_items": null,
            "bottom": null,
            "_model_module": "@jupyter-widgets/base",
            "top": null,
            "grid_column": null,
            "overflow_y": null,
            "overflow_x": null,
            "grid_auto_flow": null,
            "grid_area": null,
            "grid_template_columns": null,
            "flex": null,
            "_model_name": "LayoutModel",
            "justify_items": null,
            "grid_row": null,
            "max_height": null,
            "align_content": null,
            "visibility": null,
            "align_self": null,
            "height": null,
            "min_height": null,
            "padding": null,
            "grid_auto_rows": null,
            "grid_gap": null,
            "max_width": null,
            "order": null,
            "_view_module_version": "1.2.0",
            "grid_template_areas": null,
            "object_position": null,
            "object_fit": null,
            "grid_auto_columns": null,
            "margin": null,
            "display": null,
            "left": null
          }
        },
        "a38d07c6c97347fa933a3f7dc290f5f4": {
          "model_module": "@jupyter-widgets/controls",
          "model_name": "HTMLModel",
          "model_module_version": "1.5.0",
          "state": {
            "_view_name": "HTMLView",
            "style": "IPY_MODEL_36942225e78b43649376dadd84ff056a",
            "_dom_classes": [],
            "description": "",
            "_model_name": "HTMLModel",
            "placeholder": "​",
            "_view_module": "@jupyter-widgets/controls",
            "_model_module_version": "1.5.0",
            "value": "Resolving data files: 100%",
            "_view_count": null,
            "_view_module_version": "1.5.0",
            "description_tooltip": null,
            "_model_module": "@jupyter-widgets/controls",
            "layout": "IPY_MODEL_aa9693af0de847e0b356a824157c29da"
          }
        },
        "bc72c61184de483b8274f42e550aab51": {
          "model_module": "@jupyter-widgets/controls",
          "model_name": "FloatProgressModel",
          "model_module_version": "1.5.0",
          "state": {
            "_view_name": "ProgressView",
            "style": "IPY_MODEL_6df9ad52ff16484bb038b0ba558a23e3",
            "_dom_classes": [],
            "description": "",
            "_model_name": "FloatProgressModel",
            "bar_style": "success",
            "max": 18,
            "_view_module": "@jupyter-widgets/controls",
            "_model_module_version": "1.5.0",
            "value": 18,
            "_view_count": null,
            "_view_module_version": "1.5.0",
            "orientation": "horizontal",
            "min": 0,
            "description_tooltip": null,
            "_model_module": "@jupyter-widgets/controls",
            "layout": "IPY_MODEL_2fc151f4168044119e7b0b846573ec10"
          }
        },
        "4fad85177d134294b75b5d66cee2bf29": {
          "model_module": "@jupyter-widgets/controls",
          "model_name": "HTMLModel",
          "model_module_version": "1.5.0",
          "state": {
            "_view_name": "HTMLView",
            "style": "IPY_MODEL_78bb3a8849464b38bd2630b8ed3a43b6",
            "_dom_classes": [],
            "description": "",
            "_model_name": "HTMLModel",
            "placeholder": "​",
            "_view_module": "@jupyter-widgets/controls",
            "_model_module_version": "1.5.0",
            "value": " 18/18 [00:00&lt;00:00, 648.96it/s]",
            "_view_count": null,
            "_view_module_version": "1.5.0",
            "description_tooltip": null,
            "_model_module": "@jupyter-widgets/controls",
            "layout": "IPY_MODEL_1ce9bced4a144b49a384a43be3322d53"
          }
        },
        "36942225e78b43649376dadd84ff056a": {
          "model_module": "@jupyter-widgets/controls",
          "model_name": "DescriptionStyleModel",
          "model_module_version": "1.5.0",
          "state": {
            "_view_name": "StyleView",
            "_model_name": "DescriptionStyleModel",
            "description_width": "",
            "_view_module": "@jupyter-widgets/base",
            "_model_module_version": "1.5.0",
            "_view_count": null,
            "_view_module_version": "1.2.0",
            "_model_module": "@jupyter-widgets/controls"
          }
        },
        "aa9693af0de847e0b356a824157c29da": {
          "model_module": "@jupyter-widgets/base",
          "model_name": "LayoutModel",
          "model_module_version": "1.2.0",
          "state": {
            "_view_name": "LayoutView",
            "grid_template_rows": null,
            "right": null,
            "justify_content": null,
            "_view_module": "@jupyter-widgets/base",
            "overflow": null,
            "_model_module_version": "1.2.0",
            "_view_count": null,
            "flex_flow": null,
            "width": null,
            "min_width": null,
            "border": null,
            "align_items": null,
            "bottom": null,
            "_model_module": "@jupyter-widgets/base",
            "top": null,
            "grid_column": null,
            "overflow_y": null,
            "overflow_x": null,
            "grid_auto_flow": null,
            "grid_area": null,
            "grid_template_columns": null,
            "flex": null,
            "_model_name": "LayoutModel",
            "justify_items": null,
            "grid_row": null,
            "max_height": null,
            "align_content": null,
            "visibility": null,
            "align_self": null,
            "height": null,
            "min_height": null,
            "padding": null,
            "grid_auto_rows": null,
            "grid_gap": null,
            "max_width": null,
            "order": null,
            "_view_module_version": "1.2.0",
            "grid_template_areas": null,
            "object_position": null,
            "object_fit": null,
            "grid_auto_columns": null,
            "margin": null,
            "display": null,
            "left": null
          }
        },
        "6df9ad52ff16484bb038b0ba558a23e3": {
          "model_module": "@jupyter-widgets/controls",
          "model_name": "ProgressStyleModel",
          "model_module_version": "1.5.0",
          "state": {
            "_view_name": "StyleView",
            "_model_name": "ProgressStyleModel",
            "description_width": "",
            "_view_module": "@jupyter-widgets/base",
            "_model_module_version": "1.5.0",
            "_view_count": null,
            "_view_module_version": "1.2.0",
            "bar_color": null,
            "_model_module": "@jupyter-widgets/controls"
          }
        },
        "2fc151f4168044119e7b0b846573ec10": {
          "model_module": "@jupyter-widgets/base",
          "model_name": "LayoutModel",
          "model_module_version": "1.2.0",
          "state": {
            "_view_name": "LayoutView",
            "grid_template_rows": null,
            "right": null,
            "justify_content": null,
            "_view_module": "@jupyter-widgets/base",
            "overflow": null,
            "_model_module_version": "1.2.0",
            "_view_count": null,
            "flex_flow": null,
            "width": null,
            "min_width": null,
            "border": null,
            "align_items": null,
            "bottom": null,
            "_model_module": "@jupyter-widgets/base",
            "top": null,
            "grid_column": null,
            "overflow_y": null,
            "overflow_x": null,
            "grid_auto_flow": null,
            "grid_area": null,
            "grid_template_columns": null,
            "flex": null,
            "_model_name": "LayoutModel",
            "justify_items": null,
            "grid_row": null,
            "max_height": null,
            "align_content": null,
            "visibility": null,
            "align_self": null,
            "height": null,
            "min_height": null,
            "padding": null,
            "grid_auto_rows": null,
            "grid_gap": null,
            "max_width": null,
            "order": null,
            "_view_module_version": "1.2.0",
            "grid_template_areas": null,
            "object_position": null,
            "object_fit": null,
            "grid_auto_columns": null,
            "margin": null,
            "display": null,
            "left": null
          }
        },
        "78bb3a8849464b38bd2630b8ed3a43b6": {
          "model_module": "@jupyter-widgets/controls",
          "model_name": "DescriptionStyleModel",
          "model_module_version": "1.5.0",
          "state": {
            "_view_name": "StyleView",
            "_model_name": "DescriptionStyleModel",
            "description_width": "",
            "_view_module": "@jupyter-widgets/base",
            "_model_module_version": "1.5.0",
            "_view_count": null,
            "_view_module_version": "1.2.0",
            "_model_module": "@jupyter-widgets/controls"
          }
        },
        "1ce9bced4a144b49a384a43be3322d53": {
          "model_module": "@jupyter-widgets/base",
          "model_name": "LayoutModel",
          "model_module_version": "1.2.0",
          "state": {
            "_view_name": "LayoutView",
            "grid_template_rows": null,
            "right": null,
            "justify_content": null,
            "_view_module": "@jupyter-widgets/base",
            "overflow": null,
            "_model_module_version": "1.2.0",
            "_view_count": null,
            "flex_flow": null,
            "width": null,
            "min_width": null,
            "border": null,
            "align_items": null,
            "bottom": null,
            "_model_module": "@jupyter-widgets/base",
            "top": null,
            "grid_column": null,
            "overflow_y": null,
            "overflow_x": null,
            "grid_auto_flow": null,
            "grid_area": null,
            "grid_template_columns": null,
            "flex": null,
            "_model_name": "LayoutModel",
            "justify_items": null,
            "grid_row": null,
            "max_height": null,
            "align_content": null,
            "visibility": null,
            "align_self": null,
            "height": null,
            "min_height": null,
            "padding": null,
            "grid_auto_rows": null,
            "grid_gap": null,
            "max_width": null,
            "order": null,
            "_view_module_version": "1.2.0",
            "grid_template_areas": null,
            "object_position": null,
            "object_fit": null,
            "grid_auto_columns": null,
            "margin": null,
            "display": null,
            "left": null
          }
        },
        "9810ff5989c64b5c8ead66664281837a": {
          "model_module": "@jupyter-widgets/controls",
          "model_name": "HBoxModel",
          "model_module_version": "1.5.0",
          "state": {
            "_view_name": "HBoxView",
            "_dom_classes": [],
            "_model_name": "HBoxModel",
            "_view_module": "@jupyter-widgets/controls",
            "_model_module_version": "1.5.0",
            "_view_count": null,
            "_view_module_version": "1.5.0",
            "box_style": "",
            "layout": "IPY_MODEL_969b505b7e394d67adb86d6ca7e4c7e2",
            "_model_module": "@jupyter-widgets/controls",
            "children": [
              "IPY_MODEL_3601aa84edb548099bbd2e0017158f75",
              "IPY_MODEL_e89a612f09f84fe9b800e38e18b7e5a2",
              "IPY_MODEL_fe912aaca79945478cef9d05d4f198b8"
            ]
          }
        },
        "969b505b7e394d67adb86d6ca7e4c7e2": {
          "model_module": "@jupyter-widgets/base",
          "model_name": "LayoutModel",
          "model_module_version": "1.2.0",
          "state": {
            "_view_name": "LayoutView",
            "grid_template_rows": null,
            "right": null,
            "justify_content": null,
            "_view_module": "@jupyter-widgets/base",
            "overflow": null,
            "_model_module_version": "1.2.0",
            "_view_count": null,
            "flex_flow": null,
            "width": null,
            "min_width": null,
            "border": null,
            "align_items": null,
            "bottom": null,
            "_model_module": "@jupyter-widgets/base",
            "top": null,
            "grid_column": null,
            "overflow_y": null,
            "overflow_x": null,
            "grid_auto_flow": null,
            "grid_area": null,
            "grid_template_columns": null,
            "flex": null,
            "_model_name": "LayoutModel",
            "justify_items": null,
            "grid_row": null,
            "max_height": null,
            "align_content": null,
            "visibility": null,
            "align_self": null,
            "height": null,
            "min_height": null,
            "padding": null,
            "grid_auto_rows": null,
            "grid_gap": null,
            "max_width": null,
            "order": null,
            "_view_module_version": "1.2.0",
            "grid_template_areas": null,
            "object_position": null,
            "object_fit": null,
            "grid_auto_columns": null,
            "margin": null,
            "display": null,
            "left": null
          }
        },
        "3601aa84edb548099bbd2e0017158f75": {
          "model_module": "@jupyter-widgets/controls",
          "model_name": "HTMLModel",
          "model_module_version": "1.5.0",
          "state": {
            "_view_name": "HTMLView",
            "style": "IPY_MODEL_575f4fe5bd8144fc814487f3412c7dd2",
            "_dom_classes": [],
            "description": "",
            "_model_name": "HTMLModel",
            "placeholder": "​",
            "_view_module": "@jupyter-widgets/controls",
            "_model_module_version": "1.5.0",
            "value": "Downloading data files: 100%",
            "_view_count": null,
            "_view_module_version": "1.5.0",
            "description_tooltip": null,
            "_model_module": "@jupyter-widgets/controls",
            "layout": "IPY_MODEL_5725e60341c34d1d9d57b9a6b2971be2"
          }
        },
        "e89a612f09f84fe9b800e38e18b7e5a2": {
          "model_module": "@jupyter-widgets/controls",
          "model_name": "FloatProgressModel",
          "model_module_version": "1.5.0",
          "state": {
            "_view_name": "ProgressView",
            "style": "IPY_MODEL_b829f3a7b3054df59281ccca0f50eef7",
            "_dom_classes": [],
            "description": "",
            "_model_name": "FloatProgressModel",
            "bar_style": "success",
            "max": 1,
            "_view_module": "@jupyter-widgets/controls",
            "_model_module_version": "1.5.0",
            "value": 1,
            "_view_count": null,
            "_view_module_version": "1.5.0",
            "orientation": "horizontal",
            "min": 0,
            "description_tooltip": null,
            "_model_module": "@jupyter-widgets/controls",
            "layout": "IPY_MODEL_5185058758f2420e8ea5b8246510d905"
          }
        },
        "fe912aaca79945478cef9d05d4f198b8": {
          "model_module": "@jupyter-widgets/controls",
          "model_name": "HTMLModel",
          "model_module_version": "1.5.0",
          "state": {
            "_view_name": "HTMLView",
            "style": "IPY_MODEL_3877d0cff9f64a14a2aee05da0793a44",
            "_dom_classes": [],
            "description": "",
            "_model_name": "HTMLModel",
            "placeholder": "​",
            "_view_module": "@jupyter-widgets/controls",
            "_model_module_version": "1.5.0",
            "value": " 1/1 [00:00&lt;00:00, 22.52it/s]",
            "_view_count": null,
            "_view_module_version": "1.5.0",
            "description_tooltip": null,
            "_model_module": "@jupyter-widgets/controls",
            "layout": "IPY_MODEL_3dac0b73caf44c0daf285a04a35e9563"
          }
        },
        "575f4fe5bd8144fc814487f3412c7dd2": {
          "model_module": "@jupyter-widgets/controls",
          "model_name": "DescriptionStyleModel",
          "model_module_version": "1.5.0",
          "state": {
            "_view_name": "StyleView",
            "_model_name": "DescriptionStyleModel",
            "description_width": "",
            "_view_module": "@jupyter-widgets/base",
            "_model_module_version": "1.5.0",
            "_view_count": null,
            "_view_module_version": "1.2.0",
            "_model_module": "@jupyter-widgets/controls"
          }
        },
        "5725e60341c34d1d9d57b9a6b2971be2": {
          "model_module": "@jupyter-widgets/base",
          "model_name": "LayoutModel",
          "model_module_version": "1.2.0",
          "state": {
            "_view_name": "LayoutView",
            "grid_template_rows": null,
            "right": null,
            "justify_content": null,
            "_view_module": "@jupyter-widgets/base",
            "overflow": null,
            "_model_module_version": "1.2.0",
            "_view_count": null,
            "flex_flow": null,
            "width": null,
            "min_width": null,
            "border": null,
            "align_items": null,
            "bottom": null,
            "_model_module": "@jupyter-widgets/base",
            "top": null,
            "grid_column": null,
            "overflow_y": null,
            "overflow_x": null,
            "grid_auto_flow": null,
            "grid_area": null,
            "grid_template_columns": null,
            "flex": null,
            "_model_name": "LayoutModel",
            "justify_items": null,
            "grid_row": null,
            "max_height": null,
            "align_content": null,
            "visibility": null,
            "align_self": null,
            "height": null,
            "min_height": null,
            "padding": null,
            "grid_auto_rows": null,
            "grid_gap": null,
            "max_width": null,
            "order": null,
            "_view_module_version": "1.2.0",
            "grid_template_areas": null,
            "object_position": null,
            "object_fit": null,
            "grid_auto_columns": null,
            "margin": null,
            "display": null,
            "left": null
          }
        },
        "b829f3a7b3054df59281ccca0f50eef7": {
          "model_module": "@jupyter-widgets/controls",
          "model_name": "ProgressStyleModel",
          "model_module_version": "1.5.0",
          "state": {
            "_view_name": "StyleView",
            "_model_name": "ProgressStyleModel",
            "description_width": "",
            "_view_module": "@jupyter-widgets/base",
            "_model_module_version": "1.5.0",
            "_view_count": null,
            "_view_module_version": "1.2.0",
            "bar_color": null,
            "_model_module": "@jupyter-widgets/controls"
          }
        },
        "5185058758f2420e8ea5b8246510d905": {
          "model_module": "@jupyter-widgets/base",
          "model_name": "LayoutModel",
          "model_module_version": "1.2.0",
          "state": {
            "_view_name": "LayoutView",
            "grid_template_rows": null,
            "right": null,
            "justify_content": null,
            "_view_module": "@jupyter-widgets/base",
            "overflow": null,
            "_model_module_version": "1.2.0",
            "_view_count": null,
            "flex_flow": null,
            "width": null,
            "min_width": null,
            "border": null,
            "align_items": null,
            "bottom": null,
            "_model_module": "@jupyter-widgets/base",
            "top": null,
            "grid_column": null,
            "overflow_y": null,
            "overflow_x": null,
            "grid_auto_flow": null,
            "grid_area": null,
            "grid_template_columns": null,
            "flex": null,
            "_model_name": "LayoutModel",
            "justify_items": null,
            "grid_row": null,
            "max_height": null,
            "align_content": null,
            "visibility": null,
            "align_self": null,
            "height": null,
            "min_height": null,
            "padding": null,
            "grid_auto_rows": null,
            "grid_gap": null,
            "max_width": null,
            "order": null,
            "_view_module_version": "1.2.0",
            "grid_template_areas": null,
            "object_position": null,
            "object_fit": null,
            "grid_auto_columns": null,
            "margin": null,
            "display": null,
            "left": null
          }
        },
        "3877d0cff9f64a14a2aee05da0793a44": {
          "model_module": "@jupyter-widgets/controls",
          "model_name": "DescriptionStyleModel",
          "model_module_version": "1.5.0",
          "state": {
            "_view_name": "StyleView",
            "_model_name": "DescriptionStyleModel",
            "description_width": "",
            "_view_module": "@jupyter-widgets/base",
            "_model_module_version": "1.5.0",
            "_view_count": null,
            "_view_module_version": "1.2.0",
            "_model_module": "@jupyter-widgets/controls"
          }
        },
        "3dac0b73caf44c0daf285a04a35e9563": {
          "model_module": "@jupyter-widgets/base",
          "model_name": "LayoutModel",
          "model_module_version": "1.2.0",
          "state": {
            "_view_name": "LayoutView",
            "grid_template_rows": null,
            "right": null,
            "justify_content": null,
            "_view_module": "@jupyter-widgets/base",
            "overflow": null,
            "_model_module_version": "1.2.0",
            "_view_count": null,
            "flex_flow": null,
            "width": null,
            "min_width": null,
            "border": null,
            "align_items": null,
            "bottom": null,
            "_model_module": "@jupyter-widgets/base",
            "top": null,
            "grid_column": null,
            "overflow_y": null,
            "overflow_x": null,
            "grid_auto_flow": null,
            "grid_area": null,
            "grid_template_columns": null,
            "flex": null,
            "_model_name": "LayoutModel",
            "justify_items": null,
            "grid_row": null,
            "max_height": null,
            "align_content": null,
            "visibility": null,
            "align_self": null,
            "height": null,
            "min_height": null,
            "padding": null,
            "grid_auto_rows": null,
            "grid_gap": null,
            "max_width": null,
            "order": null,
            "_view_module_version": "1.2.0",
            "grid_template_areas": null,
            "object_position": null,
            "object_fit": null,
            "grid_auto_columns": null,
            "margin": null,
            "display": null,
            "left": null
          }
        },
        "2818b8a5cea5428a86ac83010bada5de": {
          "model_module": "@jupyter-widgets/controls",
          "model_name": "HBoxModel",
          "model_module_version": "1.5.0",
          "state": {
            "_view_name": "HBoxView",
            "_dom_classes": [],
            "_model_name": "HBoxModel",
            "_view_module": "@jupyter-widgets/controls",
            "_model_module_version": "1.5.0",
            "_view_count": null,
            "_view_module_version": "1.5.0",
            "box_style": "",
            "layout": "IPY_MODEL_402ce0b172d7413da12fddd97be4edf9",
            "_model_module": "@jupyter-widgets/controls",
            "children": [
              "IPY_MODEL_dda0e82bf28e4b72a847b6baa567f62a",
              "IPY_MODEL_b06c41fd520246ea9ba6ac27bbe557d7",
              "IPY_MODEL_fa8157ec669b4d8dae950545f7031411"
            ]
          }
        },
        "402ce0b172d7413da12fddd97be4edf9": {
          "model_module": "@jupyter-widgets/base",
          "model_name": "LayoutModel",
          "model_module_version": "1.2.0",
          "state": {
            "_view_name": "LayoutView",
            "grid_template_rows": null,
            "right": null,
            "justify_content": null,
            "_view_module": "@jupyter-widgets/base",
            "overflow": null,
            "_model_module_version": "1.2.0",
            "_view_count": null,
            "flex_flow": null,
            "width": null,
            "min_width": null,
            "border": null,
            "align_items": null,
            "bottom": null,
            "_model_module": "@jupyter-widgets/base",
            "top": null,
            "grid_column": null,
            "overflow_y": null,
            "overflow_x": null,
            "grid_auto_flow": null,
            "grid_area": null,
            "grid_template_columns": null,
            "flex": null,
            "_model_name": "LayoutModel",
            "justify_items": null,
            "grid_row": null,
            "max_height": null,
            "align_content": null,
            "visibility": null,
            "align_self": null,
            "height": null,
            "min_height": null,
            "padding": null,
            "grid_auto_rows": null,
            "grid_gap": null,
            "max_width": null,
            "order": null,
            "_view_module_version": "1.2.0",
            "grid_template_areas": null,
            "object_position": null,
            "object_fit": null,
            "grid_auto_columns": null,
            "margin": null,
            "display": null,
            "left": null
          }
        },
        "dda0e82bf28e4b72a847b6baa567f62a": {
          "model_module": "@jupyter-widgets/controls",
          "model_name": "HTMLModel",
          "model_module_version": "1.5.0",
          "state": {
            "_view_name": "HTMLView",
            "style": "IPY_MODEL_4fa92484452a43508e856f4a1449bcdb",
            "_dom_classes": [],
            "description": "",
            "_model_name": "HTMLModel",
            "placeholder": "​",
            "_view_module": "@jupyter-widgets/controls",
            "_model_module_version": "1.5.0",
            "value": "Extracting data files: 100%",
            "_view_count": null,
            "_view_module_version": "1.5.0",
            "description_tooltip": null,
            "_model_module": "@jupyter-widgets/controls",
            "layout": "IPY_MODEL_22a91fb7433749eead033ecf08549ecf"
          }
        },
        "b06c41fd520246ea9ba6ac27bbe557d7": {
          "model_module": "@jupyter-widgets/controls",
          "model_name": "FloatProgressModel",
          "model_module_version": "1.5.0",
          "state": {
            "_view_name": "ProgressView",
            "style": "IPY_MODEL_88ac73dc4fe74b64a67126a4339215e1",
            "_dom_classes": [],
            "description": "",
            "_model_name": "FloatProgressModel",
            "bar_style": "success",
            "max": 1,
            "_view_module": "@jupyter-widgets/controls",
            "_model_module_version": "1.5.0",
            "value": 1,
            "_view_count": null,
            "_view_module_version": "1.5.0",
            "orientation": "horizontal",
            "min": 0,
            "description_tooltip": null,
            "_model_module": "@jupyter-widgets/controls",
            "layout": "IPY_MODEL_6acc76b0587c4160be3d5cbdda904a8b"
          }
        },
        "fa8157ec669b4d8dae950545f7031411": {
          "model_module": "@jupyter-widgets/controls",
          "model_name": "HTMLModel",
          "model_module_version": "1.5.0",
          "state": {
            "_view_name": "HTMLView",
            "style": "IPY_MODEL_6ff805043dbe4ab5bae476807b53000b",
            "_dom_classes": [],
            "description": "",
            "_model_name": "HTMLModel",
            "placeholder": "​",
            "_view_module": "@jupyter-widgets/controls",
            "_model_module_version": "1.5.0",
            "value": " 1/1 [00:00&lt;00:00, 20.79it/s]",
            "_view_count": null,
            "_view_module_version": "1.5.0",
            "description_tooltip": null,
            "_model_module": "@jupyter-widgets/controls",
            "layout": "IPY_MODEL_e3a44d3ac5924a919a13a59c5d09b712"
          }
        },
        "4fa92484452a43508e856f4a1449bcdb": {
          "model_module": "@jupyter-widgets/controls",
          "model_name": "DescriptionStyleModel",
          "model_module_version": "1.5.0",
          "state": {
            "_view_name": "StyleView",
            "_model_name": "DescriptionStyleModel",
            "description_width": "",
            "_view_module": "@jupyter-widgets/base",
            "_model_module_version": "1.5.0",
            "_view_count": null,
            "_view_module_version": "1.2.0",
            "_model_module": "@jupyter-widgets/controls"
          }
        },
        "22a91fb7433749eead033ecf08549ecf": {
          "model_module": "@jupyter-widgets/base",
          "model_name": "LayoutModel",
          "model_module_version": "1.2.0",
          "state": {
            "_view_name": "LayoutView",
            "grid_template_rows": null,
            "right": null,
            "justify_content": null,
            "_view_module": "@jupyter-widgets/base",
            "overflow": null,
            "_model_module_version": "1.2.0",
            "_view_count": null,
            "flex_flow": null,
            "width": null,
            "min_width": null,
            "border": null,
            "align_items": null,
            "bottom": null,
            "_model_module": "@jupyter-widgets/base",
            "top": null,
            "grid_column": null,
            "overflow_y": null,
            "overflow_x": null,
            "grid_auto_flow": null,
            "grid_area": null,
            "grid_template_columns": null,
            "flex": null,
            "_model_name": "LayoutModel",
            "justify_items": null,
            "grid_row": null,
            "max_height": null,
            "align_content": null,
            "visibility": null,
            "align_self": null,
            "height": null,
            "min_height": null,
            "padding": null,
            "grid_auto_rows": null,
            "grid_gap": null,
            "max_width": null,
            "order": null,
            "_view_module_version": "1.2.0",
            "grid_template_areas": null,
            "object_position": null,
            "object_fit": null,
            "grid_auto_columns": null,
            "margin": null,
            "display": null,
            "left": null
          }
        },
        "88ac73dc4fe74b64a67126a4339215e1": {
          "model_module": "@jupyter-widgets/controls",
          "model_name": "ProgressStyleModel",
          "model_module_version": "1.5.0",
          "state": {
            "_view_name": "StyleView",
            "_model_name": "ProgressStyleModel",
            "description_width": "",
            "_view_module": "@jupyter-widgets/base",
            "_model_module_version": "1.5.0",
            "_view_count": null,
            "_view_module_version": "1.2.0",
            "bar_color": null,
            "_model_module": "@jupyter-widgets/controls"
          }
        },
        "6acc76b0587c4160be3d5cbdda904a8b": {
          "model_module": "@jupyter-widgets/base",
          "model_name": "LayoutModel",
          "model_module_version": "1.2.0",
          "state": {
            "_view_name": "LayoutView",
            "grid_template_rows": null,
            "right": null,
            "justify_content": null,
            "_view_module": "@jupyter-widgets/base",
            "overflow": null,
            "_model_module_version": "1.2.0",
            "_view_count": null,
            "flex_flow": null,
            "width": null,
            "min_width": null,
            "border": null,
            "align_items": null,
            "bottom": null,
            "_model_module": "@jupyter-widgets/base",
            "top": null,
            "grid_column": null,
            "overflow_y": null,
            "overflow_x": null,
            "grid_auto_flow": null,
            "grid_area": null,
            "grid_template_columns": null,
            "flex": null,
            "_model_name": "LayoutModel",
            "justify_items": null,
            "grid_row": null,
            "max_height": null,
            "align_content": null,
            "visibility": null,
            "align_self": null,
            "height": null,
            "min_height": null,
            "padding": null,
            "grid_auto_rows": null,
            "grid_gap": null,
            "max_width": null,
            "order": null,
            "_view_module_version": "1.2.0",
            "grid_template_areas": null,
            "object_position": null,
            "object_fit": null,
            "grid_auto_columns": null,
            "margin": null,
            "display": null,
            "left": null
          }
        },
        "6ff805043dbe4ab5bae476807b53000b": {
          "model_module": "@jupyter-widgets/controls",
          "model_name": "DescriptionStyleModel",
          "model_module_version": "1.5.0",
          "state": {
            "_view_name": "StyleView",
            "_model_name": "DescriptionStyleModel",
            "description_width": "",
            "_view_module": "@jupyter-widgets/base",
            "_model_module_version": "1.5.0",
            "_view_count": null,
            "_view_module_version": "1.2.0",
            "_model_module": "@jupyter-widgets/controls"
          }
        },
        "e3a44d3ac5924a919a13a59c5d09b712": {
          "model_module": "@jupyter-widgets/base",
          "model_name": "LayoutModel",
          "model_module_version": "1.2.0",
          "state": {
            "_view_name": "LayoutView",
            "grid_template_rows": null,
            "right": null,
            "justify_content": null,
            "_view_module": "@jupyter-widgets/base",
            "overflow": null,
            "_model_module_version": "1.2.0",
            "_view_count": null,
            "flex_flow": null,
            "width": null,
            "min_width": null,
            "border": null,
            "align_items": null,
            "bottom": null,
            "_model_module": "@jupyter-widgets/base",
            "top": null,
            "grid_column": null,
            "overflow_y": null,
            "overflow_x": null,
            "grid_auto_flow": null,
            "grid_area": null,
            "grid_template_columns": null,
            "flex": null,
            "_model_name": "LayoutModel",
            "justify_items": null,
            "grid_row": null,
            "max_height": null,
            "align_content": null,
            "visibility": null,
            "align_self": null,
            "height": null,
            "min_height": null,
            "padding": null,
            "grid_auto_rows": null,
            "grid_gap": null,
            "max_width": null,
            "order": null,
            "_view_module_version": "1.2.0",
            "grid_template_areas": null,
            "object_position": null,
            "object_fit": null,
            "grid_auto_columns": null,
            "margin": null,
            "display": null,
            "left": null
          }
        },
        "9e1de66b6ba9489ba82aa701709ec6a0": {
          "model_module": "@jupyter-widgets/controls",
          "model_name": "HBoxModel",
          "model_module_version": "1.5.0",
          "state": {
            "_view_name": "HBoxView",
            "_dom_classes": [],
            "_model_name": "HBoxModel",
            "_view_module": "@jupyter-widgets/controls",
            "_model_module_version": "1.5.0",
            "_view_count": null,
            "_view_module_version": "1.5.0",
            "box_style": "",
            "layout": "IPY_MODEL_69ccfb07a382485ea909b15233768b4d",
            "_model_module": "@jupyter-widgets/controls",
            "children": [
              "IPY_MODEL_83c78b85c7a8476d8418a14ad6674d48",
              "IPY_MODEL_86bcaf4791424e809da13e1c6674c1d1",
              "IPY_MODEL_ff71ddc4430b4111b7baf0c9eda77ec2"
            ]
          }
        },
        "69ccfb07a382485ea909b15233768b4d": {
          "model_module": "@jupyter-widgets/base",
          "model_name": "LayoutModel",
          "model_module_version": "1.2.0",
          "state": {
            "_view_name": "LayoutView",
            "grid_template_rows": null,
            "right": null,
            "justify_content": null,
            "_view_module": "@jupyter-widgets/base",
            "overflow": null,
            "_model_module_version": "1.2.0",
            "_view_count": null,
            "flex_flow": null,
            "width": null,
            "min_width": null,
            "border": null,
            "align_items": null,
            "bottom": null,
            "_model_module": "@jupyter-widgets/base",
            "top": null,
            "grid_column": null,
            "overflow_y": null,
            "overflow_x": null,
            "grid_auto_flow": null,
            "grid_area": null,
            "grid_template_columns": null,
            "flex": null,
            "_model_name": "LayoutModel",
            "justify_items": null,
            "grid_row": null,
            "max_height": null,
            "align_content": null,
            "visibility": null,
            "align_self": null,
            "height": null,
            "min_height": null,
            "padding": null,
            "grid_auto_rows": null,
            "grid_gap": null,
            "max_width": null,
            "order": null,
            "_view_module_version": "1.2.0",
            "grid_template_areas": null,
            "object_position": null,
            "object_fit": null,
            "grid_auto_columns": null,
            "margin": null,
            "display": null,
            "left": null
          }
        },
        "83c78b85c7a8476d8418a14ad6674d48": {
          "model_module": "@jupyter-widgets/controls",
          "model_name": "HTMLModel",
          "model_module_version": "1.5.0",
          "state": {
            "_view_name": "HTMLView",
            "style": "IPY_MODEL_2068c125f1d649e590a22ccbcacbc816",
            "_dom_classes": [],
            "description": "",
            "_model_name": "HTMLModel",
            "placeholder": "​",
            "_view_module": "@jupyter-widgets/controls",
            "_model_module_version": "1.5.0",
            "value": "100%",
            "_view_count": null,
            "_view_module_version": "1.5.0",
            "description_tooltip": null,
            "_model_module": "@jupyter-widgets/controls",
            "layout": "IPY_MODEL_51f5cb56d72849aa9844c497c5ecff56"
          }
        },
        "86bcaf4791424e809da13e1c6674c1d1": {
          "model_module": "@jupyter-widgets/controls",
          "model_name": "FloatProgressModel",
          "model_module_version": "1.5.0",
          "state": {
            "_view_name": "ProgressView",
            "style": "IPY_MODEL_a0942f8db779441f9bc381fb351197ac",
            "_dom_classes": [],
            "description": "",
            "_model_name": "FloatProgressModel",
            "bar_style": "success",
            "max": 1,
            "_view_module": "@jupyter-widgets/controls",
            "_model_module_version": "1.5.0",
            "value": 1,
            "_view_count": null,
            "_view_module_version": "1.5.0",
            "orientation": "horizontal",
            "min": 0,
            "description_tooltip": null,
            "_model_module": "@jupyter-widgets/controls",
            "layout": "IPY_MODEL_5bb8a38dea7a46bfb64cbc7bb0e12cc6"
          }
        },
        "ff71ddc4430b4111b7baf0c9eda77ec2": {
          "model_module": "@jupyter-widgets/controls",
          "model_name": "HTMLModel",
          "model_module_version": "1.5.0",
          "state": {
            "_view_name": "HTMLView",
            "style": "IPY_MODEL_f0d853ed171549718c9ef562b287445b",
            "_dom_classes": [],
            "description": "",
            "_model_name": "HTMLModel",
            "placeholder": "​",
            "_view_module": "@jupyter-widgets/controls",
            "_model_module_version": "1.5.0",
            "value": " 1/1 [00:00&lt;00:00, 27.13it/s]",
            "_view_count": null,
            "_view_module_version": "1.5.0",
            "description_tooltip": null,
            "_model_module": "@jupyter-widgets/controls",
            "layout": "IPY_MODEL_b37981c6942a4a6c9fda3bddcd0a948f"
          }
        },
        "2068c125f1d649e590a22ccbcacbc816": {
          "model_module": "@jupyter-widgets/controls",
          "model_name": "DescriptionStyleModel",
          "model_module_version": "1.5.0",
          "state": {
            "_view_name": "StyleView",
            "_model_name": "DescriptionStyleModel",
            "description_width": "",
            "_view_module": "@jupyter-widgets/base",
            "_model_module_version": "1.5.0",
            "_view_count": null,
            "_view_module_version": "1.2.0",
            "_model_module": "@jupyter-widgets/controls"
          }
        },
        "51f5cb56d72849aa9844c497c5ecff56": {
          "model_module": "@jupyter-widgets/base",
          "model_name": "LayoutModel",
          "model_module_version": "1.2.0",
          "state": {
            "_view_name": "LayoutView",
            "grid_template_rows": null,
            "right": null,
            "justify_content": null,
            "_view_module": "@jupyter-widgets/base",
            "overflow": null,
            "_model_module_version": "1.2.0",
            "_view_count": null,
            "flex_flow": null,
            "width": null,
            "min_width": null,
            "border": null,
            "align_items": null,
            "bottom": null,
            "_model_module": "@jupyter-widgets/base",
            "top": null,
            "grid_column": null,
            "overflow_y": null,
            "overflow_x": null,
            "grid_auto_flow": null,
            "grid_area": null,
            "grid_template_columns": null,
            "flex": null,
            "_model_name": "LayoutModel",
            "justify_items": null,
            "grid_row": null,
            "max_height": null,
            "align_content": null,
            "visibility": null,
            "align_self": null,
            "height": null,
            "min_height": null,
            "padding": null,
            "grid_auto_rows": null,
            "grid_gap": null,
            "max_width": null,
            "order": null,
            "_view_module_version": "1.2.0",
            "grid_template_areas": null,
            "object_position": null,
            "object_fit": null,
            "grid_auto_columns": null,
            "margin": null,
            "display": null,
            "left": null
          }
        },
        "a0942f8db779441f9bc381fb351197ac": {
          "model_module": "@jupyter-widgets/controls",
          "model_name": "ProgressStyleModel",
          "model_module_version": "1.5.0",
          "state": {
            "_view_name": "StyleView",
            "_model_name": "ProgressStyleModel",
            "description_width": "",
            "_view_module": "@jupyter-widgets/base",
            "_model_module_version": "1.5.0",
            "_view_count": null,
            "_view_module_version": "1.2.0",
            "bar_color": null,
            "_model_module": "@jupyter-widgets/controls"
          }
        },
        "5bb8a38dea7a46bfb64cbc7bb0e12cc6": {
          "model_module": "@jupyter-widgets/base",
          "model_name": "LayoutModel",
          "model_module_version": "1.2.0",
          "state": {
            "_view_name": "LayoutView",
            "grid_template_rows": null,
            "right": null,
            "justify_content": null,
            "_view_module": "@jupyter-widgets/base",
            "overflow": null,
            "_model_module_version": "1.2.0",
            "_view_count": null,
            "flex_flow": null,
            "width": null,
            "min_width": null,
            "border": null,
            "align_items": null,
            "bottom": null,
            "_model_module": "@jupyter-widgets/base",
            "top": null,
            "grid_column": null,
            "overflow_y": null,
            "overflow_x": null,
            "grid_auto_flow": null,
            "grid_area": null,
            "grid_template_columns": null,
            "flex": null,
            "_model_name": "LayoutModel",
            "justify_items": null,
            "grid_row": null,
            "max_height": null,
            "align_content": null,
            "visibility": null,
            "align_self": null,
            "height": null,
            "min_height": null,
            "padding": null,
            "grid_auto_rows": null,
            "grid_gap": null,
            "max_width": null,
            "order": null,
            "_view_module_version": "1.2.0",
            "grid_template_areas": null,
            "object_position": null,
            "object_fit": null,
            "grid_auto_columns": null,
            "margin": null,
            "display": null,
            "left": null
          }
        },
        "f0d853ed171549718c9ef562b287445b": {
          "model_module": "@jupyter-widgets/controls",
          "model_name": "DescriptionStyleModel",
          "model_module_version": "1.5.0",
          "state": {
            "_view_name": "StyleView",
            "_model_name": "DescriptionStyleModel",
            "description_width": "",
            "_view_module": "@jupyter-widgets/base",
            "_model_module_version": "1.5.0",
            "_view_count": null,
            "_view_module_version": "1.2.0",
            "_model_module": "@jupyter-widgets/controls"
          }
        },
        "b37981c6942a4a6c9fda3bddcd0a948f": {
          "model_module": "@jupyter-widgets/base",
          "model_name": "LayoutModel",
          "model_module_version": "1.2.0",
          "state": {
            "_view_name": "LayoutView",
            "grid_template_rows": null,
            "right": null,
            "justify_content": null,
            "_view_module": "@jupyter-widgets/base",
            "overflow": null,
            "_model_module_version": "1.2.0",
            "_view_count": null,
            "flex_flow": null,
            "width": null,
            "min_width": null,
            "border": null,
            "align_items": null,
            "bottom": null,
            "_model_module": "@jupyter-widgets/base",
            "top": null,
            "grid_column": null,
            "overflow_y": null,
            "overflow_x": null,
            "grid_auto_flow": null,
            "grid_area": null,
            "grid_template_columns": null,
            "flex": null,
            "_model_name": "LayoutModel",
            "justify_items": null,
            "grid_row": null,
            "max_height": null,
            "align_content": null,
            "visibility": null,
            "align_self": null,
            "height": null,
            "min_height": null,
            "padding": null,
            "grid_auto_rows": null,
            "grid_gap": null,
            "max_width": null,
            "order": null,
            "_view_module_version": "1.2.0",
            "grid_template_areas": null,
            "object_position": null,
            "object_fit": null,
            "grid_auto_columns": null,
            "margin": null,
            "display": null,
            "left": null
          }
        }
      }
    }
  },
  "cells": [
    {
      "cell_type": "code",
      "source": [
        "from datasets import load_dataset, load_metric"
      ],
      "metadata": {
        "id": "9tm2nUqvmBoH"
      },
      "execution_count": 1,
      "outputs": []
    },
    {
      "cell_type": "code",
      "source": [
        "squad_datasets = load_dataset(\"squad\")"
      ],
      "metadata": {
        "colab": {
          "base_uri": "https://localhost:8080/",
          "height": 66,
          "referenced_widgets": [
            "1ac666d02c6a45ca972fd8e6ef4c1880",
            "888f8d5f75d84338a94f8206b6ea5d2e",
            "255eaac6b860485a9f1577518631b40f",
            "e1eaaef3dc694b3ba1ac2bd9b5cbe2d3",
            "8c0fdce3563b481e861281db60faa112",
            "5407ecfa7b6b470fbe26e1bc000faaff",
            "f8d401b8061c4d39aefa1cc23a53d094",
            "d1a3352b63454ebdb1552d608aa9dced",
            "0a408ad7e2fd429e824f5b0b72c4b209",
            "301551413386465f900fd9e6d3216465",
            "ddf4d81d921347648e5a551fe640ba53"
          ]
        },
        "id": "4Tw_hS2kmI-J",
        "outputId": "3267aa81-8822-46c5-f9fb-9c36bf511926"
      },
      "execution_count": 2,
      "outputs": [
        {
          "output_type": "stream",
          "name": "stderr",
          "text": [
            "Reusing dataset squad (/root/.cache/huggingface/datasets/squad/plain_text/1.0.0/d6ec3ceb99ca480ce37cdd35555d6cb2511d223b9150cce08a837ef62ffea453)\n"
          ]
        },
        {
          "output_type": "display_data",
          "data": {
            "application/vnd.jupyter.widget-view+json": {
              "model_id": "1ac666d02c6a45ca972fd8e6ef4c1880",
              "version_minor": 0,
              "version_major": 2
            },
            "text/plain": [
              "  0%|          | 0/2 [00:00<?, ?it/s]"
            ]
          },
          "metadata": {}
        }
      ]
    },
    {
      "cell_type": "code",
      "source": [
        "squad_datasets"
      ],
      "metadata": {
        "colab": {
          "base_uri": "https://localhost:8080/"
        },
        "id": "CGSKq2gGmRqy",
        "outputId": "62d27220-bb36-4c02-b2f7-f0b5034f7c38"
      },
      "execution_count": 3,
      "outputs": [
        {
          "output_type": "execute_result",
          "data": {
            "text/plain": [
              "DatasetDict({\n",
              "    train: Dataset({\n",
              "        features: ['id', 'title', 'context', 'question', 'answers'],\n",
              "        num_rows: 87599\n",
              "    })\n",
              "    validation: Dataset({\n",
              "        features: ['id', 'title', 'context', 'question', 'answers'],\n",
              "        num_rows: 10570\n",
              "    })\n",
              "})"
            ]
          },
          "metadata": {},
          "execution_count": 3
        }
      ]
    },
    {
      "cell_type": "code",
      "source": [
        "# this is what a single data-point needs to look like\n",
        "squad_datasets[\"train\"][0]"
      ],
      "metadata": {
        "colab": {
          "base_uri": "https://localhost:8080/"
        },
        "id": "GjI9ysm_mZzi",
        "outputId": "4a2d6c9f-c27a-40f0-90aa-740e1d1dca0c"
      },
      "execution_count": 4,
      "outputs": [
        {
          "output_type": "execute_result",
          "data": {
            "text/plain": [
              "{'answers': {'answer_start': [515], 'text': ['Saint Bernadette Soubirous']},\n",
              " 'context': 'Architecturally, the school has a Catholic character. Atop the Main Building\\'s gold dome is a golden statue of the Virgin Mary. Immediately in front of the Main Building and facing it, is a copper statue of Christ with arms upraised with the legend \"Venite Ad Me Omnes\". Next to the Main Building is the Basilica of the Sacred Heart. Immediately behind the basilica is the Grotto, a Marian place of prayer and reflection. It is a replica of the grotto at Lourdes, France where the Virgin Mary reputedly appeared to Saint Bernadette Soubirous in 1858. At the end of the main drive (and in a direct line that connects through 3 statues and the Gold Dome), is a simple, modern stone statue of Mary.',\n",
              " 'id': '5733be284776f41900661182',\n",
              " 'question': 'To whom did the Virgin Mary allegedly appear in 1858 in Lourdes France?',\n",
              " 'title': 'University_of_Notre_Dame'}"
            ]
          },
          "metadata": {},
          "execution_count": 4
        }
      ]
    },
    {
      "cell_type": "code",
      "execution_count": 5,
      "metadata": {
        "id": "KZv3s3YUbbS0"
      },
      "outputs": [],
      "source": [
        "import pandas as pd\n",
        "import re\n",
        "import string\n",
        "import sys\n",
        "import six"
      ]
    },
    {
      "cell_type": "code",
      "source": [
        "emoji_pattern = re.compile(\n",
        "  \"[\"\n",
        "  u\"\\U0001F600-\\U0001F64F\"  # emoticons\n",
        "  u\"\\U0001F300-\\U0001F5FF\"  # symbols & pictographs\n",
        "  u\"\\U0001F680-\\U0001F6FF\"  # transport & map symbols\n",
        "  u\"\\U0001F1E0-\\U0001F1FF\"  # flags (iOS)\n",
        "  u\"\\U00002702-\\U000027B0\"\n",
        "  u\"\\U000024C2-\\U0001F251\"\n",
        "  \"]+\", \n",
        "  flags=re.UNICODE\n",
        ")\n",
        "\n",
        "def text_preproc(x):\n",
        "  x = x.lower()\n",
        "  x = ' '.join(x.split(' '))\n",
        "  x = x.encode('ascii', 'ignore').decode()\n",
        "  x = re.sub(r'https?://\\S+|www\\.\\S+', ' ', x, count=sys.maxsize) # urls\n",
        "  x = re.sub(r'<.*?>', ' ', x, count=sys.maxsize) # html tags\n",
        "  x = re.sub(r'@\\S+', ' ', x, count=sys.maxsize)\n",
        "  x = re.sub(r'#\\S+', ' ', x, count=sys.maxsize)\n",
        "  x = re.sub(r'\\'\\w+', '', x, count=sys.maxsize)\n",
        "  x = re.sub('[%s]' % re.escape(string.punctuation), ' ', x, count=sys.maxsize)\n",
        "  x = re.sub(r'\\w*\\d+\\w*', '', x, count=sys.maxsize)\n",
        "  x = re.sub(r'\\s{2,}', ' ', x, count=sys.maxsize)\n",
        "  x = re.sub(r':?\\\\+\\S', '', x, count=sys.maxsize)\n",
        "  x = emoji_pattern.sub(r'', x, count=sys.maxsize)\n",
        "  return x"
      ],
      "metadata": {
        "id": "dWUuNNT0iwen"
      },
      "execution_count": 6,
      "outputs": []
    },
    {
      "cell_type": "code",
      "source": [
        "monster_raw_df = pd.read_csv(\"monster_com-job_sample.csv\")"
      ],
      "metadata": {
        "id": "vSivyOnahuu6"
      },
      "execution_count": 7,
      "outputs": []
    },
    {
      "cell_type": "code",
      "source": [
        "print(monster_raw_df.columns)\n",
        "monster_raw_df[[\"job_description\", \"job_title\"]].head()"
      ],
      "metadata": {
        "colab": {
          "base_uri": "https://localhost:8080/",
          "height": 276
        },
        "id": "5A7HAECGlZjH",
        "outputId": "174d8c10-9793-4a7a-afe7-b4e954901f50"
      },
      "execution_count": 8,
      "outputs": [
        {
          "output_type": "stream",
          "name": "stdout",
          "text": [
            "Index(['country', 'country_code', 'date_added', 'has_expired', 'job_board',\n",
            "       'job_description', 'job_title', 'job_type', 'location', 'organization',\n",
            "       'page_url', 'salary', 'sector', 'uniq_id'],\n",
            "      dtype='object')\n"
          ]
        },
        {
          "output_type": "execute_result",
          "data": {
            "text/html": [
              "\n",
              "  <div id=\"df-7058856a-c9b3-45f0-8742-b8e81048979b\">\n",
              "    <div class=\"colab-df-container\">\n",
              "      <div>\n",
              "<style scoped>\n",
              "    .dataframe tbody tr th:only-of-type {\n",
              "        vertical-align: middle;\n",
              "    }\n",
              "\n",
              "    .dataframe tbody tr th {\n",
              "        vertical-align: top;\n",
              "    }\n",
              "\n",
              "    .dataframe thead th {\n",
              "        text-align: right;\n",
              "    }\n",
              "</style>\n",
              "<table border=\"1\" class=\"dataframe\">\n",
              "  <thead>\n",
              "    <tr style=\"text-align: right;\">\n",
              "      <th></th>\n",
              "      <th>job_description</th>\n",
              "      <th>job_title</th>\n",
              "    </tr>\n",
              "  </thead>\n",
              "  <tbody>\n",
              "    <tr>\n",
              "      <th>0</th>\n",
              "      <td>TeamSoft is seeing an IT Support Specialist to...</td>\n",
              "      <td>IT Support Technician Job in Madison</td>\n",
              "    </tr>\n",
              "    <tr>\n",
              "      <th>1</th>\n",
              "      <td>The Wisconsin State Journal is seeking a flexi...</td>\n",
              "      <td>Business Reporter/Editor Job in Madison</td>\n",
              "    </tr>\n",
              "    <tr>\n",
              "      <th>2</th>\n",
              "      <td>Report this job About the Job DePuy Synthes Co...</td>\n",
              "      <td>Johnson &amp; Johnson Family of Companies Job Appl...</td>\n",
              "    </tr>\n",
              "    <tr>\n",
              "      <th>3</th>\n",
              "      <td>Why Join Altec? If you’re considering a career...</td>\n",
              "      <td>Engineer - Quality Job in Dixon</td>\n",
              "    </tr>\n",
              "    <tr>\n",
              "      <th>4</th>\n",
              "      <td>Position ID#  76162 # Positions  1 State  CT C...</td>\n",
              "      <td>Shift Supervisor - Part-Time Job in Camphill</td>\n",
              "    </tr>\n",
              "  </tbody>\n",
              "</table>\n",
              "</div>\n",
              "      <button class=\"colab-df-convert\" onclick=\"convertToInteractive('df-7058856a-c9b3-45f0-8742-b8e81048979b')\"\n",
              "              title=\"Convert this dataframe to an interactive table.\"\n",
              "              style=\"display:none;\">\n",
              "        \n",
              "  <svg xmlns=\"http://www.w3.org/2000/svg\" height=\"24px\"viewBox=\"0 0 24 24\"\n",
              "       width=\"24px\">\n",
              "    <path d=\"M0 0h24v24H0V0z\" fill=\"none\"/>\n",
              "    <path d=\"M18.56 5.44l.94 2.06.94-2.06 2.06-.94-2.06-.94-.94-2.06-.94 2.06-2.06.94zm-11 1L8.5 8.5l.94-2.06 2.06-.94-2.06-.94L8.5 2.5l-.94 2.06-2.06.94zm10 10l.94 2.06.94-2.06 2.06-.94-2.06-.94-.94-2.06-.94 2.06-2.06.94z\"/><path d=\"M17.41 7.96l-1.37-1.37c-.4-.4-.92-.59-1.43-.59-.52 0-1.04.2-1.43.59L10.3 9.45l-7.72 7.72c-.78.78-.78 2.05 0 2.83L4 21.41c.39.39.9.59 1.41.59.51 0 1.02-.2 1.41-.59l7.78-7.78 2.81-2.81c.8-.78.8-2.07 0-2.86zM5.41 20L4 18.59l7.72-7.72 1.47 1.35L5.41 20z\"/>\n",
              "  </svg>\n",
              "      </button>\n",
              "      \n",
              "  <style>\n",
              "    .colab-df-container {\n",
              "      display:flex;\n",
              "      flex-wrap:wrap;\n",
              "      gap: 12px;\n",
              "    }\n",
              "\n",
              "    .colab-df-convert {\n",
              "      background-color: #E8F0FE;\n",
              "      border: none;\n",
              "      border-radius: 50%;\n",
              "      cursor: pointer;\n",
              "      display: none;\n",
              "      fill: #1967D2;\n",
              "      height: 32px;\n",
              "      padding: 0 0 0 0;\n",
              "      width: 32px;\n",
              "    }\n",
              "\n",
              "    .colab-df-convert:hover {\n",
              "      background-color: #E2EBFA;\n",
              "      box-shadow: 0px 1px 2px rgba(60, 64, 67, 0.3), 0px 1px 3px 1px rgba(60, 64, 67, 0.15);\n",
              "      fill: #174EA6;\n",
              "    }\n",
              "\n",
              "    [theme=dark] .colab-df-convert {\n",
              "      background-color: #3B4455;\n",
              "      fill: #D2E3FC;\n",
              "    }\n",
              "\n",
              "    [theme=dark] .colab-df-convert:hover {\n",
              "      background-color: #434B5C;\n",
              "      box-shadow: 0px 1px 3px 1px rgba(0, 0, 0, 0.15);\n",
              "      filter: drop-shadow(0px 1px 2px rgba(0, 0, 0, 0.3));\n",
              "      fill: #FFFFFF;\n",
              "    }\n",
              "  </style>\n",
              "\n",
              "      <script>\n",
              "        const buttonEl =\n",
              "          document.querySelector('#df-7058856a-c9b3-45f0-8742-b8e81048979b button.colab-df-convert');\n",
              "        buttonEl.style.display =\n",
              "          google.colab.kernel.accessAllowed ? 'block' : 'none';\n",
              "\n",
              "        async function convertToInteractive(key) {\n",
              "          const element = document.querySelector('#df-7058856a-c9b3-45f0-8742-b8e81048979b');\n",
              "          const dataTable =\n",
              "            await google.colab.kernel.invokeFunction('convertToInteractive',\n",
              "                                                     [key], {});\n",
              "          if (!dataTable) return;\n",
              "\n",
              "          const docLinkHtml = 'Like what you see? Visit the ' +\n",
              "            '<a target=\"_blank\" href=https://colab.research.google.com/notebooks/data_table.ipynb>data table notebook</a>'\n",
              "            + ' to learn more about interactive tables.';\n",
              "          element.innerHTML = '';\n",
              "          dataTable['output_type'] = 'display_data';\n",
              "          await google.colab.output.renderOutput(dataTable, element);\n",
              "          const docLink = document.createElement('div');\n",
              "          docLink.innerHTML = docLinkHtml;\n",
              "          element.appendChild(docLink);\n",
              "        }\n",
              "      </script>\n",
              "    </div>\n",
              "  </div>\n",
              "  "
            ],
            "text/plain": [
              "                                     job_description                                          job_title\n",
              "0  TeamSoft is seeing an IT Support Specialist to...               IT Support Technician Job in Madison\n",
              "1  The Wisconsin State Journal is seeking a flexi...            Business Reporter/Editor Job in Madison\n",
              "2  Report this job About the Job DePuy Synthes Co...  Johnson & Johnson Family of Companies Job Appl...\n",
              "3  Why Join Altec? If you’re considering a career...                    Engineer - Quality Job in Dixon\n",
              "4  Position ID#  76162 # Positions  1 State  CT C...       Shift Supervisor - Part-Time Job in Camphill"
            ]
          },
          "metadata": {},
          "execution_count": 8
        }
      ]
    },
    {
      "cell_type": "code",
      "source": [
        "dice_raw_df = pd.read_csv(\"/content/Dice_US_jobs.csv\", encoding = 'ISO-8859-1')"
      ],
      "metadata": {
        "id": "2P1k7plTs2Hn"
      },
      "execution_count": 9,
      "outputs": []
    },
    {
      "cell_type": "code",
      "source": [
        "print(dice_raw_df.columns)\n",
        "dice_raw_df[[\"job_description\", \"job_title\", \"sector\"]].head()"
      ],
      "metadata": {
        "colab": {
          "base_uri": "https://localhost:8080/",
          "height": 276
        },
        "id": "0UHAJDxps2BJ",
        "outputId": "187911f0-8dd1-442f-fda2-7f5aebba366c"
      },
      "execution_count": 10,
      "outputs": [
        {
          "output_type": "stream",
          "name": "stdout",
          "text": [
            "Index(['country_code', 'date_added', 'job_board', 'job_description',\n",
            "       'job_title', 'job_type', 'location', 'organization', 'page_url',\n",
            "       'phone_number', 'salary', 'sector'],\n",
            "      dtype='object')\n"
          ]
        },
        {
          "output_type": "execute_result",
          "data": {
            "text/html": [
              "\n",
              "  <div id=\"df-d2f9d937-e7c3-4b77-aa11-81f1052259e7\">\n",
              "    <div class=\"colab-df-container\">\n",
              "      <div>\n",
              "<style scoped>\n",
              "    .dataframe tbody tr th:only-of-type {\n",
              "        vertical-align: middle;\n",
              "    }\n",
              "\n",
              "    .dataframe tbody tr th {\n",
              "        vertical-align: top;\n",
              "    }\n",
              "\n",
              "    .dataframe thead th {\n",
              "        text-align: right;\n",
              "    }\n",
              "</style>\n",
              "<table border=\"1\" class=\"dataframe\">\n",
              "  <thead>\n",
              "    <tr style=\"text-align: right;\">\n",
              "      <th></th>\n",
              "      <th>job_description</th>\n",
              "      <th>job_title</th>\n",
              "      <th>sector</th>\n",
              "    </tr>\n",
              "  </thead>\n",
              "  <tbody>\n",
              "    <tr>\n",
              "      <th>0</th>\n",
              "      <td>Minimum Required Skills:EDI, TrustedLink, AS2,...</td>\n",
              "      <td>EDI Analyst</td>\n",
              "      <td>EDI, TrustedLink, AS2, VAN - EDI, TrustedLink,...</td>\n",
              "    </tr>\n",
              "    <tr>\n",
              "      <th>1</th>\n",
              "      <td>InformaticaåÊ/ ETL DeveloperSt, Petersburg, FL...</td>\n",
              "      <td>Informatica ETL Developer</td>\n",
              "      <td>ETL Informatica B2B Data Exchange Netezza Orac...</td>\n",
              "    </tr>\n",
              "    <tr>\n",
              "      <th>2</th>\n",
              "      <td>pmayekar@kanandcorp.com 512-697-8897Sunnyvale ...</td>\n",
              "      <td>Angular developer</td>\n",
              "      <td>Angular</td>\n",
              "    </tr>\n",
              "    <tr>\n",
              "      <th>3</th>\n",
              "      <td>This nationally recognized Microsoft Gold Part...</td>\n",
              "      <td>Microsoft Dynamics AX, Project Manager</td>\n",
              "      <td>Microsoft Dynamics AX, Project Manager - Toron...</td>\n",
              "    </tr>\n",
              "    <tr>\n",
              "      <th>4</th>\n",
              "      <td>Minimum Required Skills:C#, ASP.NET, SQL, Java...</td>\n",
              "      <td>Software Developer</td>\n",
              "      <td>C#, ASP.NET, SQL, JavaScript, MVC - C#, ASP.NE...</td>\n",
              "    </tr>\n",
              "  </tbody>\n",
              "</table>\n",
              "</div>\n",
              "      <button class=\"colab-df-convert\" onclick=\"convertToInteractive('df-d2f9d937-e7c3-4b77-aa11-81f1052259e7')\"\n",
              "              title=\"Convert this dataframe to an interactive table.\"\n",
              "              style=\"display:none;\">\n",
              "        \n",
              "  <svg xmlns=\"http://www.w3.org/2000/svg\" height=\"24px\"viewBox=\"0 0 24 24\"\n",
              "       width=\"24px\">\n",
              "    <path d=\"M0 0h24v24H0V0z\" fill=\"none\"/>\n",
              "    <path d=\"M18.56 5.44l.94 2.06.94-2.06 2.06-.94-2.06-.94-.94-2.06-.94 2.06-2.06.94zm-11 1L8.5 8.5l.94-2.06 2.06-.94-2.06-.94L8.5 2.5l-.94 2.06-2.06.94zm10 10l.94 2.06.94-2.06 2.06-.94-2.06-.94-.94-2.06-.94 2.06-2.06.94z\"/><path d=\"M17.41 7.96l-1.37-1.37c-.4-.4-.92-.59-1.43-.59-.52 0-1.04.2-1.43.59L10.3 9.45l-7.72 7.72c-.78.78-.78 2.05 0 2.83L4 21.41c.39.39.9.59 1.41.59.51 0 1.02-.2 1.41-.59l7.78-7.78 2.81-2.81c.8-.78.8-2.07 0-2.86zM5.41 20L4 18.59l7.72-7.72 1.47 1.35L5.41 20z\"/>\n",
              "  </svg>\n",
              "      </button>\n",
              "      \n",
              "  <style>\n",
              "    .colab-df-container {\n",
              "      display:flex;\n",
              "      flex-wrap:wrap;\n",
              "      gap: 12px;\n",
              "    }\n",
              "\n",
              "    .colab-df-convert {\n",
              "      background-color: #E8F0FE;\n",
              "      border: none;\n",
              "      border-radius: 50%;\n",
              "      cursor: pointer;\n",
              "      display: none;\n",
              "      fill: #1967D2;\n",
              "      height: 32px;\n",
              "      padding: 0 0 0 0;\n",
              "      width: 32px;\n",
              "    }\n",
              "\n",
              "    .colab-df-convert:hover {\n",
              "      background-color: #E2EBFA;\n",
              "      box-shadow: 0px 1px 2px rgba(60, 64, 67, 0.3), 0px 1px 3px 1px rgba(60, 64, 67, 0.15);\n",
              "      fill: #174EA6;\n",
              "    }\n",
              "\n",
              "    [theme=dark] .colab-df-convert {\n",
              "      background-color: #3B4455;\n",
              "      fill: #D2E3FC;\n",
              "    }\n",
              "\n",
              "    [theme=dark] .colab-df-convert:hover {\n",
              "      background-color: #434B5C;\n",
              "      box-shadow: 0px 1px 3px 1px rgba(0, 0, 0, 0.15);\n",
              "      filter: drop-shadow(0px 1px 2px rgba(0, 0, 0, 0.3));\n",
              "      fill: #FFFFFF;\n",
              "    }\n",
              "  </style>\n",
              "\n",
              "      <script>\n",
              "        const buttonEl =\n",
              "          document.querySelector('#df-d2f9d937-e7c3-4b77-aa11-81f1052259e7 button.colab-df-convert');\n",
              "        buttonEl.style.display =\n",
              "          google.colab.kernel.accessAllowed ? 'block' : 'none';\n",
              "\n",
              "        async function convertToInteractive(key) {\n",
              "          const element = document.querySelector('#df-d2f9d937-e7c3-4b77-aa11-81f1052259e7');\n",
              "          const dataTable =\n",
              "            await google.colab.kernel.invokeFunction('convertToInteractive',\n",
              "                                                     [key], {});\n",
              "          if (!dataTable) return;\n",
              "\n",
              "          const docLinkHtml = 'Like what you see? Visit the ' +\n",
              "            '<a target=\"_blank\" href=https://colab.research.google.com/notebooks/data_table.ipynb>data table notebook</a>'\n",
              "            + ' to learn more about interactive tables.';\n",
              "          element.innerHTML = '';\n",
              "          dataTable['output_type'] = 'display_data';\n",
              "          await google.colab.output.renderOutput(dataTable, element);\n",
              "          const docLink = document.createElement('div');\n",
              "          docLink.innerHTML = docLinkHtml;\n",
              "          element.appendChild(docLink);\n",
              "        }\n",
              "      </script>\n",
              "    </div>\n",
              "  </div>\n",
              "  "
            ],
            "text/plain": [
              "                                     job_description  ...                                             sector\n",
              "0  Minimum Required Skills:EDI, TrustedLink, AS2,...  ...  EDI, TrustedLink, AS2, VAN - EDI, TrustedLink,...\n",
              "1  InformaticaåÊ/ ETL DeveloperSt, Petersburg, FL...  ...  ETL Informatica B2B Data Exchange Netezza Orac...\n",
              "2  pmayekar@kanandcorp.com 512-697-8897Sunnyvale ...  ...                                            Angular\n",
              "3  This nationally recognized Microsoft Gold Part...  ...  Microsoft Dynamics AX, Project Manager - Toron...\n",
              "4  Minimum Required Skills:C#, ASP.NET, SQL, Java...  ...  C#, ASP.NET, SQL, JavaScript, MVC - C#, ASP.NE...\n",
              "\n",
              "[5 rows x 3 columns]"
            ]
          },
          "metadata": {},
          "execution_count": 10
        }
      ]
    },
    {
      "cell_type": "code",
      "source": [
        "!wget -q https://github.com/WING-NUS/JD2Skills-BERT-XMLC/raw/main/data/mycareersfuture.tar.gz\n",
        "!tar vxf ./mycareersfuture.tar.gz"
      ],
      "metadata": {
        "colab": {
          "base_uri": "https://localhost:8080/"
        },
        "id": "NOTNUjMms13R",
        "outputId": "8dca0920-8045-411b-8e92-1185ca48c22a"
      },
      "execution_count": 11,
      "outputs": [
        {
          "output_type": "stream",
          "name": "stdout",
          "text": [
            "mycareersfuture.json\n"
          ]
        }
      ]
    },
    {
      "cell_type": "code",
      "source": [
        "import json\n",
        "with open(\"mycareersfuture.json\") as f:\n",
        "    skill_jd_raw = json.load(f)"
      ],
      "metadata": {
        "id": "9Yltzm93vbe0"
      },
      "execution_count": 12,
      "outputs": []
    },
    {
      "cell_type": "code",
      "source": [
        "from random import sample\n",
        "sample(skill_jd_raw[\"jobs\"], 1)"
      ],
      "metadata": {
        "colab": {
          "base_uri": "https://localhost:8080/"
        },
        "id": "r5sl6x74vso4",
        "outputId": "f31e71fb-8129-45ad-ee05-043bf0a4db0d"
      },
      "execution_count": 14,
      "outputs": [
        {
          "output_type": "execute_result",
          "data": {
            "text/plain": [
              "[{'company_info': 'RHB Securities Singapore Pte. Ltd. is a prominent stockbroking house with over 20 years of solid track record in Singapore. We are well placed to serve our customers’ brokerage and other financial needs both locally and regionally.\\nAs part of the RHB Banking group, Malaysia’s fourth largest financial services group which is set to become one of ASEAN’s Leading Multinational Financial Services Group by 2020, we provide a comprehensive network which enables us to command a leading presence among retail and institutional investors.\\n',\n",
              "  'company_name': 'RHB SECURITIES SINGAPORE PTE. LTD.',\n",
              "  'employment_type': 'Permanent',\n",
              "  'expiry_date': '06 Jul 2019',\n",
              "  'job_category': ['Banking and Finance'],\n",
              "  'job_id': 'JOB-2019-0046780',\n",
              "  'job_requirements': 'requirementsjob requirements degree holder least 2 years relevant working experience securities industry preferred graduate finance related welcome apply possess good command english written spoken team player able work independently without much supervision proficient microsoft office especially ms excel intermediate level eg vlookup pivot table knowledge macros automate tasks added advantage',\n",
              "  'job_title': 'Credit Control Executive',\n",
              "  'location': 'OCEAN FINANCIAL CENTRE, 10 COLLYER QUAY 049315',\n",
              "  'min_experience': '3 years  exp',\n",
              "  'no_of_applications': '34',\n",
              "  'posting_date': '06 Jun 2019',\n",
              "  'requirements_and_role': \"job responsibilities equity margin financing products perform due diligence checks essential background searches upon onboarding new clients deemed necessary conduct financial analysis counters company large exposure review clients ' credit limits monitor debt recovery progress regular basis carry daily force selling overdue positions liaise internal external parties management risk department lawyers regulators etc trading related matters display teamwork work closely staff departments within group times review clients ' portfolio ensure meet prescribed margin requirements communicate trading representatives force selling margins margin loans margin related matters monitor client 's portfolio company 's overall exposure ensure client company exposed single counter concentration risk perform enhanced counter analysis clients ' shares collaterals provide recommendations management 's decision making semi annual review counter list monthly reporting headquarter daily reporting company 's stocks exposure losses management review update operations manual ensure current processes documented assist system uat testing adhoc projects\",\n",
              "  'salary': '$2,800to$4,500Monthly',\n",
              "  'seniority': 'Executive',\n",
              "  'skills_required': ['Business Development',\n",
              "   'Business Strategy',\n",
              "   'CRM',\n",
              "   'Customer Service',\n",
              "   'Event Management',\n",
              "   'Leadership',\n",
              "   'Management',\n",
              "   'Marketing',\n",
              "   'Marketing Strategy',\n",
              "   'Microsoft Office',\n",
              "   'Negotiation',\n",
              "   'New Business Development',\n",
              "   'Program Management',\n",
              "   'Project Management',\n",
              "   'Sales',\n",
              "   'Social Media',\n",
              "   'Strategic Planning',\n",
              "   'Strategy',\n",
              "   'Team Leadership',\n",
              "   'Training']}]"
            ]
          },
          "metadata": {},
          "execution_count": 14
        }
      ]
    },
    {
      "cell_type": "code",
      "source": [
        "!wget -q https://github.com/chunchentu/amazon_job_skill/raw/master/amazon_jobs_skill_preprocessed.csv"
      ],
      "metadata": {
        "id": "JskOD1ojv8mL"
      },
      "execution_count": 15,
      "outputs": []
    },
    {
      "cell_type": "code",
      "source": [
        "amazon_raw_df = pd.read_csv(\"/content/amazon_jobs_skill_preprocessed.csv\")"
      ],
      "metadata": {
        "id": "3ozS_hvwwBKE"
      },
      "execution_count": 16,
      "outputs": []
    },
    {
      "cell_type": "code",
      "source": [
        "print(amazon_raw_df.columns)\n",
        "amazon_raw_df.iloc[[0]].to_dict()"
      ],
      "metadata": {
        "colab": {
          "base_uri": "https://localhost:8080/"
        },
        "id": "DT4INs16wIlL",
        "outputId": "134db9be-662a-442c-e32c-54b78ad6726a"
      },
      "execution_count": 17,
      "outputs": [
        {
          "output_type": "stream",
          "name": "stdout",
          "text": [
            "Index(['Index', 'Title', 'Country', 'State', 'City', 'Posting_year',\n",
            "       'Posting_month', 'Posting_day', 'DESCRIPTION', 'Posting_date',\n",
            "       'BASIC QUALIFICATIONS', 'PREFERRED QUALIFICATIONS', 'mdy'],\n",
            "      dtype='object')\n"
          ]
        },
        {
          "output_type": "execute_result",
          "data": {
            "text/plain": [
              "{'BASIC QUALIFICATIONS': {0: \"· Proven track record of hiring and managing high performing engineering teams· Breadth and depth of experience building and managing software systems and teams· · Excellent written and verbal communication skills with the ability to present complex technical information in a clear and concise manner to executives and non-technical leaders· · Willingness to roll up your sleeves and do what's necessary to drive your projects to completion· · 6+ years of experience in Software development and 4+ years as a Development Manager· · Strong technical credentials, with expertise in OOP, Java or C++· · Experience with Linux/Unix systems· · Experience with SQL and No SQL data stores· · Bachelor's Degree in Computer Science or related degree\"},\n",
              " 'City': {0: ' Seattle'},\n",
              " 'Country': {0: 'US'},\n",
              " 'DESCRIPTION': {0: 'You are an experienced hands-on manager with a background in developing and delivering software that simplifies solutions for a broad set of related problems. You have a strong technical ability, great communication skills, and know how to inspire your team to achieve outstanding results in a fast paced environment. You have a track record of building and leading strong teams of talented engineers and you enjoy working with smart people. In short - you are a skilled leader capable of getting great things done for your customers. If it sounds like you - then read on!As one of the largest companies in the cloud computing space across the world, Amazon Web Services (AWS) offers dozens of services and processes billions of usage records. Over the past 10 years, Amazon has become known across the globe as the most trusted company on the internet.The systems we build interpret and process a very high volume stream of events; often bundled with low-latency/real-time analysis to enable security and fraud detection.AWS Bill Generation team manages the computation engine responsible for generating charges to the customers. Every time any AWS service meters a usage by a customer, a record makes its way to the our computation engine. At the simplest level, the bill computation engine generates bill line items corresponding to usage. Every day the bill computation engine processes hundreds of millions of records. The computation engine is architected to enable us to scale to this computational load and grow with the rapidly growing AWS business.There are numerous highly varied scenarios that the bill computation engine handles: the common most one is that of tiering, i.e. charging customers at different rates based on usage. These tiers may be computed across multiple dimensions: across geographical regions, across accounts, or across services. One of the key goals of the bill computation engine is to build a highly scalable, general purpose multi-dimensional counter mechanism that enables us to support a very flexible set of pricing models. Another key goal is to make the bill computation engine \"declarative\". We want to make it super easy for sellers of cloud services to create complex pricing plans with minimal or no code changes whatsoever.Key Responsibilities:· Adopt overall AWS plans for AWS Commerce Platform and define your own team\\'s future direction.· · Manage projects that deliver on commitments to our customers.· · Manage day-to-day activities of engineering team using Agile/Scrum methodology.· · Manage team\\'s resources: hire, mentor, and grow the engineering team.· · Work closely with engineers to architect and develop the best technical solutions. Be a hands-on technical leader.· · Report on status of development, quality, operations, and system performance to management.'},\n",
              " 'Index': {0: 0},\n",
              " 'PREFERRED QUALIFICATIONS': {0: '· Experience building extremely high volume and highly scalable web services· · Eperience building highly available systems and operating 24x7 services· · Experience with distributed systems, consistent hashing, distributed locking, replication, and load balancing· · Master’s degree or PhD in Computer Science· · Working knowledge of Hadoop, MapReduce, or other Big Data processing platforms· · Working knowledge of Kafka, Storm, Spark Streaming, Kinesis, or other stream processing platforms'},\n",
              " 'Posting_date': {0: 'March  1, 2018'},\n",
              " 'Posting_day': {0: 1},\n",
              " 'Posting_month': {0: 3},\n",
              " 'Posting_year': {0: 2018},\n",
              " 'State': {0: ' WA'},\n",
              " 'Title': {0: 'Software Development Manager'},\n",
              " 'mdy': {0: '2018-03-01'}}"
            ]
          },
          "metadata": {},
          "execution_count": 17
        }
      ]
    },
    {
      "cell_type": "code",
      "source": [
        "!wget -q https://info.stackoverflowsolutions.com/rs/719-EMH-566/images/stack-overflow-developer-survey-2021.zip"
      ],
      "metadata": {
        "id": "6RcIy-_gwexa"
      },
      "execution_count": 18,
      "outputs": []
    },
    {
      "cell_type": "code",
      "source": [
        "!unzip stack-overflow-developer-survey-2021.zip"
      ],
      "metadata": {
        "colab": {
          "base_uri": "https://localhost:8080/"
        },
        "id": "plVzX01uw3Ta",
        "outputId": "c479a672-20d4-4cb5-db0f-4b7f7bbe931a"
      },
      "execution_count": 19,
      "outputs": [
        {
          "output_type": "stream",
          "name": "stdout",
          "text": [
            "Archive:  stack-overflow-developer-survey-2021.zip\n",
            "  inflating: README_2021.txt         \n",
            "  inflating: so_survey_2021.pdf      \n",
            "replace survey_results_public.csv? [y]es, [n]o, [A]ll, [N]one, [r]ename: n\n",
            "replace survey_results_schema.csv? [y]es, [n]o, [A]ll, [N]one, [r]ename: n\n"
          ]
        }
      ]
    },
    {
      "cell_type": "code",
      "source": [
        "stackoverflow_raw_df = pd.read_csv(\"/content/survey_results_public.csv\")\n",
        "stackoverflow_raw_df.sample(1).to_dict()"
      ],
      "metadata": {
        "colab": {
          "base_uri": "https://localhost:8080/"
        },
        "id": "ikxx2CaDw6ix",
        "outputId": "fe163564-4368-4dd7-8889-ac608cfecc5f"
      },
      "execution_count": 20,
      "outputs": [
        {
          "output_type": "execute_result",
          "data": {
            "text/plain": [
              "{'Accessibility': {2076: 'None of the above'},\n",
              " 'Age': {2076: '35-44 years old'},\n",
              " 'Age1stCode': {2076: '18 - 24 years'},\n",
              " 'CompFreq': {2076: 'Yearly'},\n",
              " 'CompTotal': {2076: 70000.0},\n",
              " 'ConvertedCompYearly': {2076: 52942.0},\n",
              " 'Country': {2076: 'Canada'},\n",
              " 'Currency': {2076: 'CAD\\tCanadian dollar'},\n",
              " 'DatabaseHaveWorkedWith': {2076: 'MySQL'},\n",
              " 'DatabaseWantToWorkWith': {2076: 'MySQL'},\n",
              " 'DevType': {2076: 'Developer, front-end'},\n",
              " 'EdLevel': {2076: 'Bachelor’s degree (B.A., B.S., B.Eng., etc.)'},\n",
              " 'Employment': {2076: 'Employed full-time'},\n",
              " 'Ethnicity': {2076: 'White or of European descent'},\n",
              " 'Gender': {2076: 'Man'},\n",
              " 'LanguageHaveWorkedWith': {2076: 'HTML/CSS;JavaScript;PHP'},\n",
              " 'LanguageWantToWorkWith': {2076: 'HTML/CSS;JavaScript;Node.js;PHP;TypeScript'},\n",
              " 'LearnCode': {2076: 'School'},\n",
              " 'MainBranch': {2076: 'I am a developer by profession'},\n",
              " 'MentalHealth': {2076: 'None of the above'},\n",
              " 'MiscTechHaveWorkedWith': {2076: nan},\n",
              " 'MiscTechWantToWorkWith': {2076: nan},\n",
              " 'NEWCollabToolsHaveWorkedWith': {2076: 'Eclipse;Notepad++;Sublime Text;Visual Studio;Visual Studio Code'},\n",
              " 'NEWCollabToolsWantToWorkWith': {2076: 'Sublime Text;Visual Studio Code'},\n",
              " 'NEWOtherComms': {2076: 'Yes'},\n",
              " 'NEWSOSites': {2076: 'Stack Overflow;Stack Exchange'},\n",
              " 'NEWStuck': {2076: 'Call a coworker or friend;Visit Stack Overflow;Google it;Do other work and come back later'},\n",
              " 'OpSys': {2076: 'MacOS'},\n",
              " 'OrgSize': {2076: '100 to 499 employees'},\n",
              " 'PlatformHaveWorkedWith': {2076: 'AWS;Microsoft Azure'},\n",
              " 'PlatformWantToWorkWith': {2076: 'Heroku'},\n",
              " 'ResponseId': {2076: 2077},\n",
              " 'SOAccount': {2076: 'Yes'},\n",
              " 'SOComm': {2076: 'Yes, somewhat'},\n",
              " 'SOPartFreq': {2076: 'A few times per month or weekly'},\n",
              " 'SOVisitFreq': {2076: 'A few times per week'},\n",
              " 'Sexuality': {2076: 'Straight / Heterosexual'},\n",
              " 'SurveyEase': {2076: 'Easy'},\n",
              " 'SurveyLength': {2076: 'Appropriate in length'},\n",
              " 'ToolsTechHaveWorkedWith': {2076: 'Git'},\n",
              " 'ToolsTechWantToWorkWith': {2076: 'Git'},\n",
              " 'Trans': {2076: 'No'},\n",
              " 'UK_Country': {2076: nan},\n",
              " 'US_State': {2076: nan},\n",
              " 'WebframeHaveWorkedWith': {2076: 'Angular;Angular.js;ASP.NET;jQuery;Spring'},\n",
              " 'WebframeWantToWorkWith': {2076: 'React.js;Svelte;Vue.js'},\n",
              " 'YearsCode': {2076: '16'},\n",
              " 'YearsCodePro': {2076: '13'}}"
            ]
          },
          "metadata": {},
          "execution_count": 20
        }
      ]
    },
    {
      "cell_type": "code",
      "source": [
        "!wget -q https://github.com/et4m1r/job_skills_data/raw/main/data.json -O job_skills.json\n",
        "import json\n",
        "with open(\"job_skills.json\") as f:\n",
        "    skills_list_raw = json.load(f)"
      ],
      "metadata": {
        "id": "NyiYl82-xg7a"
      },
      "execution_count": 21,
      "outputs": []
    },
    {
      "cell_type": "code",
      "source": [
        "print(skills_list_raw.keys())\n",
        "skills_list_raw['Engineering & Science'][:5]"
      ],
      "metadata": {
        "colab": {
          "base_uri": "https://localhost:8080/"
        },
        "id": "mQKO1Cg_xuNC",
        "outputId": "ef1ead33-fee1-4655-99f8-9de377a0e8e6"
      },
      "execution_count": 22,
      "outputs": [
        {
          "output_type": "stream",
          "name": "stdout",
          "text": [
            "dict_keys(['Websites, IT & Software', 'Writing & Content', 'Design, Media & Architecture', 'Data Entry & Admin', 'Engineering & Science', 'Sales & Marketing', 'Business, Accounting, Human Resources & Legal', 'Product Sourcing & Manufacturing', 'Mobile Phones & Computing', 'Translation & Languages', 'Local Jobs & Services', 'Freight, Shipping & Transportation', 'Telecommunications', 'Education', 'Others'])\n"
          ]
        },
        {
          "output_type": "execute_result",
          "data": {
            "text/plain": [
              "[{'name': 'Engineering'},\n",
              " {'name': 'AutoCAD'},\n",
              " {'name': 'Electrical Engineering'},\n",
              " {'name': 'Electronics'},\n",
              " {'name': 'Machine Learning'}]"
            ]
          },
          "metadata": {},
          "execution_count": 22
        }
      ]
    },
    {
      "cell_type": "code",
      "source": [
        "!wget -q https://github.com/pragatikumar/Google-Job-Skills-Analysis/raw/master/job_skills.csv -O google_job_skills.csv\n",
        "google_job_raw_df = pd.read_csv(\"/content/google_job_skills.csv\")\n",
        "google_job_raw_df.sample(1).to_dict()"
      ],
      "metadata": {
        "colab": {
          "base_uri": "https://localhost:8080/"
        },
        "id": "a3UaY3Njx8tC",
        "outputId": "1022e734-c619-4496-81c2-9ef73ded7114"
      },
      "execution_count": 23,
      "outputs": [
        {
          "output_type": "execute_result",
          "data": {
            "text/plain": [
              "{'Category': {297: 'Program Management'},\n",
              " 'Company': {297: 'Google'},\n",
              " 'Location': {297: 'Singapore'},\n",
              " 'Minimum Qualifications': {297: \"Bachelor's degree or equivalent practical experience.\\n5 years of experience in program management, partner development and/or channel sales roles in the business technology market.\"},\n",
              " 'Preferred Qualifications': {297: \"Master's degree in a technical discipline (e.g. Computer Science/Software Engineering) or MBA.\\n10 years of partner programs experience at an Enterprise Software (or Cloud) company, with experience in competitive partner programs.\\nRecent experience in transition channel models to such as Cloud, SaaS or Services and Advisory Programs.\\nPassionate about the partners, possess the drive to achieve quick results, and have the capacity to assume increasing responsibility in a highly successful, fast-paced global organization.\\nAbility to collaborate and build relationships with individuals of varying levels of experience and department functions.\\nExceptionally strong communication skills with the ability to effectively converse with partners, resolve conflict, deliver presentations, and design scalable email correspondence for partners.\"},\n",
              " 'Responsibilities': {297: 'Serve as point of contact for partners and manage consistent and operationally efficient “partner first” business practices to onboard and support our partners through their partnership lifecycle.\\nUnderstand and propose the necessary systems and process changes to reduce friction for our partners and sales teams.\\nContribute to the development of existing and future state partner onboarding activities and initiatives that develop ongoing touch points with partners to increase their success with Google Cloud.\\nPromote new initiatives and offers proactively to our partners in a scalable fashion that energizes our partner ecosystem.'},\n",
              " 'Title': {297: 'JAPAC Partner Onboarding Manager'}}"
            ]
          },
          "metadata": {},
          "execution_count": 23
        }
      ]
    },
    {
      "cell_type": "code",
      "source": [
        "from random import sample\n",
        "import re\n",
        "import itertools\n",
        "\n",
        "question_to_skills = dict() # a potential answer for a given question.\n",
        "skill_to_questions = dict()\n",
        "\n",
        "all_skills = []\n",
        "salary_snippets = []\n",
        "seniority_levels = []\n",
        "experience_requirements = []\n",
        "cities = []\n",
        "education_levels = []\n",
        "programming_languages = []\n",
        "databses = []\n",
        "industries = []\n",
        "\n",
        "# extract dice snippets\n",
        "all_skills += dice_raw_df.sector.dropna().to_list()\n",
        "\n",
        "# extract snippets from mycareersfuture\n",
        "for job_details in skill_jd_raw[\"jobs\"]:\n",
        "  all_skills += job_details[\"skills_required\"]\n",
        "  seniority_levels += [job_details[\"seniority\"]]\n",
        "  experience_requirements += [job_details[\"min_experience\"]]\n",
        "  salary_snippets += [job_details[\"salary\"]]\n",
        "  industries += job_details[\"job_category\"]\n",
        "\n",
        "experience_requirements += [f\"{i} years of experience\" for i in range(1, 45)]\n",
        "experience_requirements += [f\"{i} years\" for i in range(1, 45)]\n",
        "experience_requirements += [f\"{i}yrs.\" for i in range(1, 45)]\n",
        "experience_requirements += [f\"{i}yr minumum\" for i in range(1, 45)]\n",
        "experience_requirements += [f\"{i} years minumum\" for i in range(1, 45)]\n",
        "experience_requirements += [f\"{i} yrs. required\" for i in range(1, 45)]\n",
        "\n",
        "# extract snippets from amazon job data\n",
        "cities += amazon_raw_df.City.dropna().to_list()\n",
        "\n",
        "# extract stackoverflow snippets\n",
        "education_levels += stackoverflow_raw_df.EdLevel.dropna().to_list()\n",
        "programming_languages += stackoverflow_raw_df.LanguageHaveWorkedWith.dropna().to_list()\n",
        "all_skills += stackoverflow_raw_df.LanguageHaveWorkedWith.dropna().to_list()\n",
        "programming_languages += stackoverflow_raw_df.LanguageWantToWorkWith.dropna().to_list()\n",
        "all_skills += stackoverflow_raw_df.LanguageWantToWorkWith.dropna().to_list()\n",
        "databses += stackoverflow_raw_df.DatabaseHaveWorkedWith.dropna().to_list()\n",
        "all_skills += stackoverflow_raw_df.DatabaseHaveWorkedWith.dropna().to_list()\n",
        "all_skills += stackoverflow_raw_df.ToolsTechHaveWorkedWith.dropna().to_list()\n",
        "all_skills += stackoverflow_raw_df.ToolsTechWantToWorkWith.dropna().to_list()\n",
        "\n",
        "industries += list(skills_list_raw.keys())\n",
        "for industry_skills in skills_list_raw.values():\n",
        "  all_skills += [s[\"name\"] for s in industry_skills]\n",
        "\n",
        "# google job snippets\n",
        "industries += google_job_raw_df[\"Category\"].dropna().to_list()\n",
        "cities += google_job_raw_df[\"Location\"].dropna().to_list()\n",
        "\n",
        "snippets = {}\n",
        "namespace = locals()\n",
        "for key, arr in [\n",
        "  (\"all_skills\", all_skills),\n",
        "  (\"seniority_levels\", seniority_levels),\n",
        "  (\"experience_requirements\", experience_requirements),\n",
        "  (\"cities\", cities),\n",
        "  (\"education_levels\", education_levels),\n",
        "  (\"programming_languages\", programming_languages),\n",
        "  (\"databses\", databses),\n",
        "  (\"industries\", industries),\n",
        "]:\n",
        "  arr = list(itertools.chain.from_iterable([re.split(r'[,/;&]', s) for s in arr]))\n",
        "  arr = [s.strip().lower() for s in arr]\n",
        "  arr = list(set(arr))\n",
        "  print(sample(arr, 5))\n",
        "  snippets[key] = arr\n",
        "\n",
        "snippets[\"salary_snippets\"] = list(set([s.strip().lower() for s in salary_snippets]))\n",
        "\n",
        "snippets[\"databses\"][4]"
      ],
      "metadata": {
        "colab": {
          "base_uri": "https://localhost:8080/",
          "height": 174
        },
        "id": "pKe2nmro0djn",
        "outputId": "47522954-c8a9-40b9-a521-8f3882e48bb0"
      },
      "execution_count": 24,
      "outputs": [
        {
          "output_type": "stream",
          "name": "stdout",
          "text": [
            "['lesson plans', 'xilinx', 'c# or c++', 'ran call testing', 'mobile ui']\n",
            "['senior executive', 'not_available', 'fresh', 'senior management', 'junior executive']\n",
            "['24 years', '35 years', '15 years minumum', '10 years  exp', '21 years']\n",
            "['japan', 'københavn', 'westborough', 'columbus', 'boulder']\n",
            "['etc.)', 'german realschule or gymnasium', 'master’s degree (m.a.', 'a.s.', 'b.s.']\n",
            "['julia', 'apl', 'html', 'c#', 'c']\n",
            "['ibm db2', 'microsoft sql server', 'cassandra', 'postgresql', 'oracle']\n",
            "['sales', 'laboratory', 'business', 'personal care', 'customer support']\n"
          ]
        },
        {
          "output_type": "execute_result",
          "data": {
            "application/vnd.google.colaboratory.intrinsic+json": {
              "type": "string"
            },
            "text/plain": [
              "'redis'"
            ]
          },
          "metadata": {},
          "execution_count": 24
        }
      ]
    },
    {
      "cell_type": "code",
      "source": [
        "jds = []\n",
        "\n",
        "jds += dice_raw_df[\"job_description\"].dropna().to_list()\n",
        "jds += monster_raw_df[\"job_description\"].dropna().to_list()\n",
        "\n",
        "jds += [j[\"job_requirements\"] for j in skill_jd_raw[\"jobs\"]]\n",
        "jds += [j[\"requirements_and_role\"] for j in skill_jd_raw[\"jobs\"]]\n",
        "\n",
        "jds += amazon_raw_df.DESCRIPTION.dropna().to_list()\n",
        "jds += amazon_raw_df['PREFERRED QUALIFICATIONS'].dropna().to_list()\n",
        "jds += amazon_raw_df['BASIC QUALIFICATIONS'].dropna().to_list()\n",
        "\n",
        "jds += google_job_raw_df['Minimum Qualifications'].dropna().to_list()\n",
        "jds += google_job_raw_df['Responsibilities'].dropna().to_list()\n",
        "jds += google_job_raw_df['Preferred Qualifications'].dropna().to_list()\n",
        "\n",
        "jds = [text_preproc(j) for j in jds]\n",
        "jds = [j for j in jds if j]\n",
        "jds = list(set(jds))"
      ],
      "metadata": {
        "id": "2GTkNAxH37SR"
      },
      "execution_count": 25,
      "outputs": []
    },
    {
      "cell_type": "code",
      "source": [
        "# https://discuss.huggingface.co/t/question-answering-bot-fine-tuning-with-custom-dataset/4412/5"
      ],
      "metadata": {
        "id": "CzWwWH_DE5CK"
      },
      "execution_count": 26,
      "outputs": []
    },
    {
      "cell_type": "code",
      "source": [
        "import json\n",
        "from datasets import load_dataset\n",
        "from uuid import uuid4\n",
        "\n",
        "questions = {\n",
        "    \"What programming language do I need to know?\": snippets[\"programming_languages\"],\n",
        "    \"What programming languages are used?\": snippets[\"programming_languages\"],\n",
        "    \"What languages are used?\": snippets[\"programming_languages\"],\n",
        "    \"What is the backend stack?\": snippets[\"programming_languages\"],\n",
        "\n",
        "    \"How much is the pay?\": snippets[\"salary_snippets\"],\n",
        "    \"what is the salary?\": snippets[\"salary_snippets\"],\n",
        "    \"what is the pay?\": snippets[\"salary_snippets\"],\n",
        "\n",
        "    \"What is the database?\": snippets[\"databses\"],\n",
        "    \"How is the data stored?\": snippets[\"databses\"],\n",
        "    \"What db is used?\": snippets[\"databses\"],\n",
        "\n",
        "    \"How senior is this role?\": snippets[\"seniority_levels\"],\n",
        "    \"is this a senior level job?\": snippets[\"seniority_levels\"],\n",
        "    \"what level is the job?\": snippets[\"seniority_levels\"],\n",
        "\n",
        "    \"what are the requirements?\": snippets[\"all_skills\"],\n",
        "    \"what skills do i need?\": snippets[\"all_skills\"],\n",
        "    \"where is the job?\": snippets[\"cities\"],\n",
        "    \"how many years of exp do i need?\": snippets[\"experience_requirements\"],\n",
        "    \"how much experience do i need?\": snippets[\"experience_requirements\"],\n",
        "    \"what level is the job?\": snippets[\"seniority_levels\"],\n",
        "}\n",
        "\n",
        "from typing import List\n",
        "from random import sample\n",
        "\n",
        "def get_datapoints(question: str):\n",
        "  possible_ans = questions[question]\n",
        "  title = f\"{hash(question)}\"\n",
        "\n",
        "  with open(f\"jd-qa-lg-{title}.json\", \"w+\") as out_file:\n",
        "    for jd in jds:\n",
        "      context = jd.lower().strip()\n",
        "      if not context:\n",
        "        continue\n",
        "      \n",
        "      for answer in possible_ans:\n",
        "        answer = answer.lower().strip()\n",
        "        if answer in [\"c++\", '', None]:\n",
        "          continue\n",
        "        starts_ends = None\n",
        "        try:\n",
        "          starts_ends = [\n",
        "            (ele.start(), ele.end() - 1) \n",
        "            for ele in re.finditer(rf'\\b({answer})\\b', context)\n",
        "          ]\n",
        "        except:\n",
        "          pass\n",
        "        if not starts_ends:\n",
        "          continue\n",
        "        answers = {}\n",
        "        idx = f\"{uuid4()}\"\n",
        "        answers[\"text\"] = [answer for _ in starts_ends]\n",
        "        answers[\"answer_start\"] = [start for start, _ in starts_ends]\n",
        "        _new = {\n",
        "            \"id\": idx,\n",
        "            \"title\": title,\n",
        "            \"context\": context,\n",
        "            \"question\": question,\n",
        "            \"answers\": answers,\n",
        "        }\n",
        "        out_file.write(\"%s\\n\" % (json.dumps(_new)))\n",
        "  return []\n",
        "\n",
        "import multiprocessing\n",
        "pool = multiprocessing.Pool(processes=16)\n",
        "all_training_data = pool.map(get_datapoints, questions.keys())"
      ],
      "metadata": {
        "colab": {
          "base_uri": "https://localhost:8080/",
          "height": 1000
        },
        "id": "NLPiSRcdsPSU",
        "outputId": "65fc57ab-2680-4db6-eeb6-fcdbf3137cfb"
      },
      "execution_count": 32,
      "outputs": [
        {
          "output_type": "stream",
          "name": "stderr",
          "text": [
            "Process ForkPoolWorker-35:\n",
            "Process ForkPoolWorker-44:\n",
            "Process ForkPoolWorker-42:\n",
            "Process ForkPoolWorker-43:\n",
            "Process ForkPoolWorker-34:\n",
            "Process ForkPoolWorker-45:\n",
            "Process ForkPoolWorker-48:\n",
            "Process ForkPoolWorker-36:\n",
            "Process ForkPoolWorker-33:\n",
            "Traceback (most recent call last):\n",
            "Traceback (most recent call last):\n",
            "Process ForkPoolWorker-40:\n",
            "Traceback (most recent call last):\n",
            "Traceback (most recent call last):\n",
            "Traceback (most recent call last):\n",
            "Traceback (most recent call last):\n",
            "Traceback (most recent call last):\n",
            "  File \"/usr/lib/python3.7/multiprocessing/process.py\", line 297, in _bootstrap\n",
            "    self.run()\n",
            "Traceback (most recent call last):\n",
            "Process ForkPoolWorker-41:\n",
            "  File \"/usr/lib/python3.7/multiprocessing/process.py\", line 297, in _bootstrap\n",
            "    self.run()\n",
            "  File \"/usr/lib/python3.7/multiprocessing/process.py\", line 297, in _bootstrap\n",
            "    self.run()\n",
            "  File \"/usr/lib/python3.7/multiprocessing/process.py\", line 297, in _bootstrap\n",
            "    self.run()\n",
            "  File \"/usr/lib/python3.7/multiprocessing/process.py\", line 297, in _bootstrap\n",
            "    self.run()\n",
            "  File \"/usr/lib/python3.7/multiprocessing/process.py\", line 297, in _bootstrap\n",
            "    self.run()\n",
            "Traceback (most recent call last):\n",
            "  File \"/usr/lib/python3.7/multiprocessing/process.py\", line 297, in _bootstrap\n",
            "    self.run()\n",
            "Traceback (most recent call last):\n",
            "  File \"/usr/lib/python3.7/multiprocessing/process.py\", line 99, in run\n",
            "    self._target(*self._args, **self._kwargs)\n",
            "  File \"/usr/lib/python3.7/multiprocessing/process.py\", line 297, in _bootstrap\n",
            "    self.run()\n",
            "  File \"/usr/lib/python3.7/multiprocessing/process.py\", line 99, in run\n",
            "    self._target(*self._args, **self._kwargs)\n",
            "  File \"/usr/lib/python3.7/multiprocessing/process.py\", line 99, in run\n",
            "    self._target(*self._args, **self._kwargs)\n",
            "Traceback (most recent call last):\n",
            "  File \"/usr/lib/python3.7/multiprocessing/process.py\", line 297, in _bootstrap\n",
            "    self.run()\n",
            "  File \"/usr/lib/python3.7/multiprocessing/process.py\", line 99, in run\n",
            "    self._target(*self._args, **self._kwargs)\n",
            "  File \"/usr/lib/python3.7/multiprocessing/pool.py\", line 110, in worker\n",
            "    task = get()\n",
            "  File \"/usr/lib/python3.7/multiprocessing/process.py\", line 99, in run\n",
            "    self._target(*self._args, **self._kwargs)\n",
            "  File \"/usr/lib/python3.7/multiprocessing/pool.py\", line 110, in worker\n",
            "    task = get()\n",
            "  File \"/usr/lib/python3.7/multiprocessing/process.py\", line 99, in run\n",
            "    self._target(*self._args, **self._kwargs)\n",
            "  File \"/usr/lib/python3.7/multiprocessing/pool.py\", line 110, in worker\n",
            "    task = get()\n",
            "  File \"/usr/lib/python3.7/multiprocessing/process.py\", line 99, in run\n",
            "    self._target(*self._args, **self._kwargs)\n",
            "  File \"/usr/lib/python3.7/multiprocessing/process.py\", line 99, in run\n",
            "    self._target(*self._args, **self._kwargs)\n",
            "  File \"/usr/lib/python3.7/multiprocessing/process.py\", line 297, in _bootstrap\n",
            "    self.run()\n",
            "  File \"/usr/lib/python3.7/multiprocessing/process.py\", line 99, in run\n",
            "    self._target(*self._args, **self._kwargs)\n",
            "  File \"/usr/lib/python3.7/multiprocessing/queues.py\", line 351, in get\n",
            "    with self._rlock:\n",
            "  File \"/usr/lib/python3.7/multiprocessing/pool.py\", line 110, in worker\n",
            "    task = get()\n",
            "  File \"/usr/lib/python3.7/multiprocessing/pool.py\", line 110, in worker\n",
            "    task = get()\n",
            "  File \"/usr/lib/python3.7/multiprocessing/pool.py\", line 110, in worker\n",
            "    task = get()\n",
            "  File \"/usr/lib/python3.7/multiprocessing/process.py\", line 297, in _bootstrap\n",
            "    self.run()\n",
            "  File \"/usr/lib/python3.7/multiprocessing/queues.py\", line 351, in get\n",
            "    with self._rlock:\n"
          ]
        },
        {
          "output_type": "error",
          "ename": "KeyboardInterrupt",
          "evalue": "ignored",
          "traceback": [
            "\u001b[0;31m---------------------------------------------------------------------------\u001b[0m",
            "\u001b[0;31mKeyboardInterrupt\u001b[0m                         Traceback (most recent call last)",
            "\u001b[0;32m<ipython-input-32-a3c406b36986>\u001b[0m in \u001b[0;36m<module>\u001b[0;34m()\u001b[0m\n\u001b[1;32m     72\u001b[0m \u001b[0;32mimport\u001b[0m \u001b[0mmultiprocessing\u001b[0m\u001b[0;34m\u001b[0m\u001b[0;34m\u001b[0m\u001b[0m\n\u001b[1;32m     73\u001b[0m \u001b[0mpool\u001b[0m \u001b[0;34m=\u001b[0m \u001b[0mmultiprocessing\u001b[0m\u001b[0;34m.\u001b[0m\u001b[0mPool\u001b[0m\u001b[0;34m(\u001b[0m\u001b[0mprocesses\u001b[0m\u001b[0;34m=\u001b[0m\u001b[0;36m16\u001b[0m\u001b[0;34m)\u001b[0m\u001b[0;34m\u001b[0m\u001b[0;34m\u001b[0m\u001b[0m\n\u001b[0;32m---> 74\u001b[0;31m \u001b[0mall_training_data\u001b[0m \u001b[0;34m=\u001b[0m \u001b[0mpool\u001b[0m\u001b[0;34m.\u001b[0m\u001b[0mmap\u001b[0m\u001b[0;34m(\u001b[0m\u001b[0mget_datapoints\u001b[0m\u001b[0;34m,\u001b[0m \u001b[0mquestions\u001b[0m\u001b[0;34m.\u001b[0m\u001b[0mkeys\u001b[0m\u001b[0;34m(\u001b[0m\u001b[0;34m)\u001b[0m\u001b[0;34m)\u001b[0m\u001b[0;34m\u001b[0m\u001b[0;34m\u001b[0m\u001b[0m\n\u001b[0m",
            "\u001b[0;32m/usr/lib/python3.7/multiprocessing/pool.py\u001b[0m in \u001b[0;36mmap\u001b[0;34m(self, func, iterable, chunksize)\u001b[0m\n\u001b[1;32m    266\u001b[0m         \u001b[0;32min\u001b[0m \u001b[0ma\u001b[0m \u001b[0mlist\u001b[0m \u001b[0mthat\u001b[0m \u001b[0;32mis\u001b[0m \u001b[0mreturned\u001b[0m\u001b[0;34m.\u001b[0m\u001b[0;34m\u001b[0m\u001b[0;34m\u001b[0m\u001b[0m\n\u001b[1;32m    267\u001b[0m         '''\n\u001b[0;32m--> 268\u001b[0;31m         \u001b[0;32mreturn\u001b[0m \u001b[0mself\u001b[0m\u001b[0;34m.\u001b[0m\u001b[0m_map_async\u001b[0m\u001b[0;34m(\u001b[0m\u001b[0mfunc\u001b[0m\u001b[0;34m,\u001b[0m \u001b[0miterable\u001b[0m\u001b[0;34m,\u001b[0m \u001b[0mmapstar\u001b[0m\u001b[0;34m,\u001b[0m \u001b[0mchunksize\u001b[0m\u001b[0;34m)\u001b[0m\u001b[0;34m.\u001b[0m\u001b[0mget\u001b[0m\u001b[0;34m(\u001b[0m\u001b[0;34m)\u001b[0m\u001b[0;34m\u001b[0m\u001b[0;34m\u001b[0m\u001b[0m\n\u001b[0m\u001b[1;32m    269\u001b[0m \u001b[0;34m\u001b[0m\u001b[0m\n\u001b[1;32m    270\u001b[0m     \u001b[0;32mdef\u001b[0m \u001b[0mstarmap\u001b[0m\u001b[0;34m(\u001b[0m\u001b[0mself\u001b[0m\u001b[0;34m,\u001b[0m \u001b[0mfunc\u001b[0m\u001b[0;34m,\u001b[0m \u001b[0miterable\u001b[0m\u001b[0;34m,\u001b[0m \u001b[0mchunksize\u001b[0m\u001b[0;34m=\u001b[0m\u001b[0;32mNone\u001b[0m\u001b[0;34m)\u001b[0m\u001b[0;34m:\u001b[0m\u001b[0;34m\u001b[0m\u001b[0;34m\u001b[0m\u001b[0m\n",
            "\u001b[0;32m/usr/lib/python3.7/multiprocessing/pool.py\u001b[0m in \u001b[0;36mget\u001b[0;34m(self, timeout)\u001b[0m\n\u001b[1;32m    649\u001b[0m \u001b[0;34m\u001b[0m\u001b[0m\n\u001b[1;32m    650\u001b[0m     \u001b[0;32mdef\u001b[0m \u001b[0mget\u001b[0m\u001b[0;34m(\u001b[0m\u001b[0mself\u001b[0m\u001b[0;34m,\u001b[0m \u001b[0mtimeout\u001b[0m\u001b[0;34m=\u001b[0m\u001b[0;32mNone\u001b[0m\u001b[0;34m)\u001b[0m\u001b[0;34m:\u001b[0m\u001b[0;34m\u001b[0m\u001b[0;34m\u001b[0m\u001b[0m\n\u001b[0;32m--> 651\u001b[0;31m         \u001b[0mself\u001b[0m\u001b[0;34m.\u001b[0m\u001b[0mwait\u001b[0m\u001b[0;34m(\u001b[0m\u001b[0mtimeout\u001b[0m\u001b[0;34m)\u001b[0m\u001b[0;34m\u001b[0m\u001b[0;34m\u001b[0m\u001b[0m\n\u001b[0m\u001b[1;32m    652\u001b[0m         \u001b[0;32mif\u001b[0m \u001b[0;32mnot\u001b[0m \u001b[0mself\u001b[0m\u001b[0;34m.\u001b[0m\u001b[0mready\u001b[0m\u001b[0;34m(\u001b[0m\u001b[0;34m)\u001b[0m\u001b[0;34m:\u001b[0m\u001b[0;34m\u001b[0m\u001b[0;34m\u001b[0m\u001b[0m\n\u001b[1;32m    653\u001b[0m             \u001b[0;32mraise\u001b[0m \u001b[0mTimeoutError\u001b[0m\u001b[0;34m\u001b[0m\u001b[0;34m\u001b[0m\u001b[0m\n",
            "\u001b[0;32m/usr/lib/python3.7/multiprocessing/pool.py\u001b[0m in \u001b[0;36mwait\u001b[0;34m(self, timeout)\u001b[0m\n\u001b[1;32m    646\u001b[0m \u001b[0;34m\u001b[0m\u001b[0m\n\u001b[1;32m    647\u001b[0m     \u001b[0;32mdef\u001b[0m \u001b[0mwait\u001b[0m\u001b[0;34m(\u001b[0m\u001b[0mself\u001b[0m\u001b[0;34m,\u001b[0m \u001b[0mtimeout\u001b[0m\u001b[0;34m=\u001b[0m\u001b[0;32mNone\u001b[0m\u001b[0;34m)\u001b[0m\u001b[0;34m:\u001b[0m\u001b[0;34m\u001b[0m\u001b[0;34m\u001b[0m\u001b[0m\n\u001b[0;32m--> 648\u001b[0;31m         \u001b[0mself\u001b[0m\u001b[0;34m.\u001b[0m\u001b[0m_event\u001b[0m\u001b[0;34m.\u001b[0m\u001b[0mwait\u001b[0m\u001b[0;34m(\u001b[0m\u001b[0mtimeout\u001b[0m\u001b[0;34m)\u001b[0m\u001b[0;34m\u001b[0m\u001b[0;34m\u001b[0m\u001b[0m\n\u001b[0m\u001b[1;32m    649\u001b[0m \u001b[0;34m\u001b[0m\u001b[0m\n\u001b[1;32m    650\u001b[0m     \u001b[0;32mdef\u001b[0m \u001b[0mget\u001b[0m\u001b[0;34m(\u001b[0m\u001b[0mself\u001b[0m\u001b[0;34m,\u001b[0m \u001b[0mtimeout\u001b[0m\u001b[0;34m=\u001b[0m\u001b[0;32mNone\u001b[0m\u001b[0;34m)\u001b[0m\u001b[0;34m:\u001b[0m\u001b[0;34m\u001b[0m\u001b[0;34m\u001b[0m\u001b[0m\n",
            "\u001b[0;32m/usr/lib/python3.7/threading.py\u001b[0m in \u001b[0;36mwait\u001b[0;34m(self, timeout)\u001b[0m\n\u001b[1;32m    550\u001b[0m             \u001b[0msignaled\u001b[0m \u001b[0;34m=\u001b[0m \u001b[0mself\u001b[0m\u001b[0;34m.\u001b[0m\u001b[0m_flag\u001b[0m\u001b[0;34m\u001b[0m\u001b[0;34m\u001b[0m\u001b[0m\n\u001b[1;32m    551\u001b[0m             \u001b[0;32mif\u001b[0m \u001b[0;32mnot\u001b[0m \u001b[0msignaled\u001b[0m\u001b[0;34m:\u001b[0m\u001b[0;34m\u001b[0m\u001b[0;34m\u001b[0m\u001b[0m\n\u001b[0;32m--> 552\u001b[0;31m                 \u001b[0msignaled\u001b[0m \u001b[0;34m=\u001b[0m \u001b[0mself\u001b[0m\u001b[0;34m.\u001b[0m\u001b[0m_cond\u001b[0m\u001b[0;34m.\u001b[0m\u001b[0mwait\u001b[0m\u001b[0;34m(\u001b[0m\u001b[0mtimeout\u001b[0m\u001b[0;34m)\u001b[0m\u001b[0;34m\u001b[0m\u001b[0;34m\u001b[0m\u001b[0m\n\u001b[0m\u001b[1;32m    553\u001b[0m             \u001b[0;32mreturn\u001b[0m \u001b[0msignaled\u001b[0m\u001b[0;34m\u001b[0m\u001b[0;34m\u001b[0m\u001b[0m\n\u001b[1;32m    554\u001b[0m \u001b[0;34m\u001b[0m\u001b[0m\n",
            "\u001b[0;32m/usr/lib/python3.7/threading.py\u001b[0m in \u001b[0;36mwait\u001b[0;34m(self, timeout)\u001b[0m\n\u001b[1;32m    294\u001b[0m         \u001b[0;32mtry\u001b[0m\u001b[0;34m:\u001b[0m    \u001b[0;31m# restore state no matter what (e.g., KeyboardInterrupt)\u001b[0m\u001b[0;34m\u001b[0m\u001b[0;34m\u001b[0m\u001b[0m\n\u001b[1;32m    295\u001b[0m             \u001b[0;32mif\u001b[0m \u001b[0mtimeout\u001b[0m \u001b[0;32mis\u001b[0m \u001b[0;32mNone\u001b[0m\u001b[0;34m:\u001b[0m\u001b[0;34m\u001b[0m\u001b[0;34m\u001b[0m\u001b[0m\n\u001b[0;32m--> 296\u001b[0;31m                 \u001b[0mwaiter\u001b[0m\u001b[0;34m.\u001b[0m\u001b[0macquire\u001b[0m\u001b[0;34m(\u001b[0m\u001b[0;34m)\u001b[0m\u001b[0;34m\u001b[0m\u001b[0;34m\u001b[0m\u001b[0m\n\u001b[0m\u001b[1;32m    297\u001b[0m                 \u001b[0mgotit\u001b[0m \u001b[0;34m=\u001b[0m \u001b[0;32mTrue\u001b[0m\u001b[0;34m\u001b[0m\u001b[0;34m\u001b[0m\u001b[0m\n\u001b[1;32m    298\u001b[0m             \u001b[0;32melse\u001b[0m\u001b[0;34m:\u001b[0m\u001b[0;34m\u001b[0m\u001b[0;34m\u001b[0m\u001b[0m\n",
            "\u001b[0;31mKeyboardInterrupt\u001b[0m: "
          ]
        },
        {
          "output_type": "stream",
          "name": "stderr",
          "text": [
            "  File \"/usr/lib/python3.7/multiprocessing/queues.py\", line 351, in get\n",
            "    with self._rlock:\n",
            "  File \"/usr/lib/python3.7/multiprocessing/pool.py\", line 110, in worker\n",
            "    task = get()\n",
            "  File \"/usr/lib/python3.7/multiprocessing/pool.py\", line 110, in worker\n",
            "    task = get()\n",
            "  File \"/usr/lib/python3.7/multiprocessing/queues.py\", line 351, in get\n",
            "    with self._rlock:\n",
            "  File \"/usr/lib/python3.7/multiprocessing/process.py\", line 99, in run\n",
            "    self._target(*self._args, **self._kwargs)\n",
            "  File \"/usr/lib/python3.7/multiprocessing/pool.py\", line 110, in worker\n",
            "    task = get()\n",
            "  File \"/usr/lib/python3.7/multiprocessing/process.py\", line 99, in run\n",
            "    self._target(*self._args, **self._kwargs)\n",
            "  File \"/usr/lib/python3.7/multiprocessing/synchronize.py\", line 95, in __enter__\n",
            "    return self._semlock.__enter__()\n",
            "  File \"/usr/lib/python3.7/multiprocessing/synchronize.py\", line 95, in __enter__\n",
            "    return self._semlock.__enter__()\n",
            "  File \"/usr/lib/python3.7/multiprocessing/synchronize.py\", line 95, in __enter__\n",
            "    return self._semlock.__enter__()\n",
            "  File \"/usr/lib/python3.7/multiprocessing/queues.py\", line 352, in get\n",
            "    res = self._reader.recv_bytes()\n",
            "  File \"/usr/lib/python3.7/multiprocessing/queues.py\", line 351, in get\n",
            "    with self._rlock:\n",
            "  File \"/usr/lib/python3.7/multiprocessing/queues.py\", line 351, in get\n",
            "    with self._rlock:\n",
            "  File \"/usr/lib/python3.7/multiprocessing/queues.py\", line 351, in get\n",
            "    with self._rlock:\n",
            "  File \"/usr/lib/python3.7/multiprocessing/queues.py\", line 351, in get\n",
            "    with self._rlock:\n",
            "  File \"/usr/lib/python3.7/multiprocessing/pool.py\", line 110, in worker\n",
            "    task = get()\n",
            "  File \"/usr/lib/python3.7/multiprocessing/synchronize.py\", line 95, in __enter__\n",
            "    return self._semlock.__enter__()\n",
            "  File \"/usr/lib/python3.7/multiprocessing/pool.py\", line 110, in worker\n",
            "    task = get()\n",
            "  File \"/usr/lib/python3.7/multiprocessing/connection.py\", line 216, in recv_bytes\n",
            "    buf = self._recv_bytes(maxlength)\n",
            "KeyboardInterrupt\n",
            "KeyboardInterrupt\n",
            "KeyboardInterrupt\n",
            "  File \"/usr/lib/python3.7/multiprocessing/synchronize.py\", line 95, in __enter__\n",
            "    return self._semlock.__enter__()\n",
            "  File \"/usr/lib/python3.7/multiprocessing/synchronize.py\", line 95, in __enter__\n",
            "    return self._semlock.__enter__()\n",
            "KeyboardInterrupt\n",
            "  File \"/usr/lib/python3.7/multiprocessing/connection.py\", line 407, in _recv_bytes\n",
            "    buf = self._recv(4)\n",
            "  File \"/usr/lib/python3.7/multiprocessing/synchronize.py\", line 95, in __enter__\n",
            "    return self._semlock.__enter__()\n",
            "  File \"/usr/lib/python3.7/multiprocessing/synchronize.py\", line 95, in __enter__\n",
            "    return self._semlock.__enter__()\n",
            "  File \"/usr/lib/python3.7/multiprocessing/queues.py\", line 351, in get\n",
            "    with self._rlock:\n",
            "  File \"/usr/lib/python3.7/multiprocessing/queues.py\", line 351, in get\n",
            "    with self._rlock:\n",
            "KeyboardInterrupt\n",
            "KeyboardInterrupt\n",
            "  File \"/usr/lib/python3.7/multiprocessing/connection.py\", line 379, in _recv\n",
            "    chunk = read(handle, remaining)\n",
            "  File \"/usr/lib/python3.7/multiprocessing/synchronize.py\", line 95, in __enter__\n",
            "    return self._semlock.__enter__()\n",
            "  File \"/usr/lib/python3.7/multiprocessing/synchronize.py\", line 95, in __enter__\n",
            "    return self._semlock.__enter__()\n",
            "KeyboardInterrupt\n",
            "KeyboardInterrupt\n",
            "KeyboardInterrupt\n",
            "KeyboardInterrupt\n",
            "KeyboardInterrupt\n"
          ]
        }
      ]
    },
    {
      "cell_type": "code",
      "source": [
        "# flat_training_payloads = list(itertools.chain.from_iterable(all_training_data))\n",
        "# sample(flat_training_payloads, 2)"
      ],
      "metadata": {
        "id": "QgNL5FRqyGBK"
      },
      "execution_count": null,
      "outputs": []
    },
    {
      "cell_type": "code",
      "source": [
        "# output_filename = \"jd-qa-train-lg.json\"\n",
        "\n",
        "# # with open(output_filename, \"w+\") as f:\n",
        "# #   f.write(json.dumps(datapoints))\n",
        "# with open(output_filename, \"w+\") as f:\n",
        "#   for dp in flat_training_payloads:\n",
        "#     f.write(\"%s\\n\" % (json.dumps(dp)))"
      ],
      "metadata": {
        "id": "kaL-NNRxDI5e"
      },
      "execution_count": null,
      "outputs": []
    },
    {
      "cell_type": "code",
      "source": [
        "!export fn=\"jd-qa-train-med.json\" && du -h $fn && head -n2 $fn && tail -n2 $fn && wc -l $fn"
      ],
      "metadata": {
        "id": "pg7HhipxvvCF"
      },
      "execution_count": null,
      "outputs": []
    },
    {
      "cell_type": "code",
      "source": [
        "# ctx ='Architecturally, the school has a Catholic character. Atop the Main Building\\'s gold dome is a golden statue of the Virgin Mary. Immediately in front of the Main Building and facing it, is a copper statue of Christ with arms upraised with the legend \"Venite Ad Me Omnes\". Next to the Main Building is the Basilica of the Sacred Heart. Immediately behind the basilica is the Grotto, a Marian place of prayer and reflection. It is a replica of the grotto at Lourdes, France where the Virgin Mary reputedly appeared to Saint Bernadette Soubirous in 1858. At the end of the main drive (and in a direct line that connects through 3 statues and the Gold Dome), is a simple, modern stone statue of Mary.'\n",
        "# ans = 'Saint Bernadette Soubirous'\n",
        "\n",
        "# [\n",
        "#   (ele.string, ele.start(), ele.end() - 1) \n",
        "#   for ele in re.finditer(rf'\\b{ans}\\b', ctx)\n",
        "# ]\n",
        "# , 'answer_start': [515]}}"
      ],
      "metadata": {
        "id": "aPwCUBiFI6YF"
      },
      "execution_count": null,
      "outputs": []
    },
    {
      "cell_type": "code",
      "source": [
        "ds = load_dataset(\"json\", data_files=\"jd-qa-lg-*.json\")"
      ],
      "metadata": {
        "colab": {
          "base_uri": "https://localhost:8080/",
          "height": 217,
          "referenced_widgets": [
            "5a2e81cc8d3a4bc79498019741ad0c34",
            "4d0cf46983cf4e699664cdac392a839c",
            "a38d07c6c97347fa933a3f7dc290f5f4",
            "bc72c61184de483b8274f42e550aab51",
            "4fad85177d134294b75b5d66cee2bf29",
            "36942225e78b43649376dadd84ff056a",
            "aa9693af0de847e0b356a824157c29da",
            "6df9ad52ff16484bb038b0ba558a23e3",
            "2fc151f4168044119e7b0b846573ec10",
            "78bb3a8849464b38bd2630b8ed3a43b6",
            "1ce9bced4a144b49a384a43be3322d53",
            "9810ff5989c64b5c8ead66664281837a",
            "969b505b7e394d67adb86d6ca7e4c7e2",
            "3601aa84edb548099bbd2e0017158f75",
            "e89a612f09f84fe9b800e38e18b7e5a2",
            "fe912aaca79945478cef9d05d4f198b8",
            "575f4fe5bd8144fc814487f3412c7dd2",
            "5725e60341c34d1d9d57b9a6b2971be2",
            "b829f3a7b3054df59281ccca0f50eef7",
            "5185058758f2420e8ea5b8246510d905",
            "3877d0cff9f64a14a2aee05da0793a44",
            "3dac0b73caf44c0daf285a04a35e9563",
            "2818b8a5cea5428a86ac83010bada5de",
            "402ce0b172d7413da12fddd97be4edf9",
            "dda0e82bf28e4b72a847b6baa567f62a",
            "b06c41fd520246ea9ba6ac27bbe557d7",
            "fa8157ec669b4d8dae950545f7031411",
            "4fa92484452a43508e856f4a1449bcdb",
            "22a91fb7433749eead033ecf08549ecf",
            "88ac73dc4fe74b64a67126a4339215e1",
            "6acc76b0587c4160be3d5cbdda904a8b",
            "6ff805043dbe4ab5bae476807b53000b",
            "e3a44d3ac5924a919a13a59c5d09b712",
            "9e1de66b6ba9489ba82aa701709ec6a0",
            "69ccfb07a382485ea909b15233768b4d",
            "83c78b85c7a8476d8418a14ad6674d48",
            "86bcaf4791424e809da13e1c6674c1d1",
            "ff71ddc4430b4111b7baf0c9eda77ec2",
            "2068c125f1d649e590a22ccbcacbc816",
            "51f5cb56d72849aa9844c497c5ecff56",
            "a0942f8db779441f9bc381fb351197ac",
            "5bb8a38dea7a46bfb64cbc7bb0e12cc6",
            "f0d853ed171549718c9ef562b287445b",
            "b37981c6942a4a6c9fda3bddcd0a948f"
          ]
        },
        "id": "ohL6Ple1OvxX",
        "outputId": "f6ed0b1e-6c2e-47ca-ee75-5e0f5fe09091"
      },
      "execution_count": 29,
      "outputs": [
        {
          "output_type": "display_data",
          "data": {
            "application/vnd.jupyter.widget-view+json": {
              "model_id": "5a2e81cc8d3a4bc79498019741ad0c34",
              "version_minor": 0,
              "version_major": 2
            },
            "text/plain": [
              "Resolving data files:   0%|          | 0/18 [00:00<?, ?it/s]"
            ]
          },
          "metadata": {}
        },
        {
          "output_type": "stream",
          "name": "stderr",
          "text": [
            "Using custom data configuration default-a936938fc87df245\n"
          ]
        },
        {
          "output_type": "stream",
          "name": "stdout",
          "text": [
            "Downloading and preparing dataset json/default to /root/.cache/huggingface/datasets/json/default-a936938fc87df245/0.0.0/ac0ca5f5289a6cf108e706efcf040422dbbfa8e658dee6a819f20d76bb84d26b...\n"
          ]
        },
        {
          "output_type": "display_data",
          "data": {
            "application/vnd.jupyter.widget-view+json": {
              "model_id": "9810ff5989c64b5c8ead66664281837a",
              "version_minor": 0,
              "version_major": 2
            },
            "text/plain": [
              "Downloading data files:   0%|          | 0/1 [00:00<?, ?it/s]"
            ]
          },
          "metadata": {}
        },
        {
          "output_type": "display_data",
          "data": {
            "application/vnd.jupyter.widget-view+json": {
              "model_id": "2818b8a5cea5428a86ac83010bada5de",
              "version_minor": 0,
              "version_major": 2
            },
            "text/plain": [
              "Extracting data files:   0%|          | 0/1 [00:00<?, ?it/s]"
            ]
          },
          "metadata": {}
        },
        {
          "output_type": "stream",
          "name": "stdout",
          "text": [
            "Dataset json downloaded and prepared to /root/.cache/huggingface/datasets/json/default-a936938fc87df245/0.0.0/ac0ca5f5289a6cf108e706efcf040422dbbfa8e658dee6a819f20d76bb84d26b. Subsequent calls will reuse this data.\n"
          ]
        },
        {
          "output_type": "display_data",
          "data": {
            "application/vnd.jupyter.widget-view+json": {
              "model_id": "9e1de66b6ba9489ba82aa701709ec6a0",
              "version_minor": 0,
              "version_major": 2
            },
            "text/plain": [
              "  0%|          | 0/1 [00:00<?, ?it/s]"
            ]
          },
          "metadata": {}
        }
      ]
    },
    {
      "cell_type": "code",
      "source": [
        "ds"
      ],
      "metadata": {
        "colab": {
          "base_uri": "https://localhost:8080/"
        },
        "id": "jDPK1ajTKVtK",
        "outputId": "2f6a3fcf-3559-4493-b1b3-3631f868fd71"
      },
      "execution_count": 31,
      "outputs": [
        {
          "output_type": "execute_result",
          "data": {
            "text/plain": [
              "DatasetDict({\n",
              "    train: Dataset({\n",
              "        features: ['id', 'title', 'context', 'question', 'answers'],\n",
              "        num_rows: 8276\n",
              "    })\n",
              "})"
            ]
          },
          "metadata": {},
          "execution_count": 31
        }
      ]
    },
    {
      "cell_type": "code",
      "source": [
        "ds[\"train\"][0]"
      ],
      "metadata": {
        "colab": {
          "base_uri": "https://localhost:8080/"
        },
        "id": "_xOz5mPpTXGX",
        "outputId": "46bf8154-3a08-47b9-df4c-1107752b4708"
      },
      "execution_count": 30,
      "outputs": [
        {
          "output_type": "execute_result",
          "data": {
            "text/plain": [
              "{'answers': {'answer_start': [1422], 'text': ['powerpoint']},\n",
              " 'context': 'role qa etl tester with hedislocation nc raleighduration contract monthsposition qty gc citizenkey skillset etl ibm datastage oracle unix shell scripts and perl scriptsjob description what software tools skills are needed to perform these daily responsibilities years of testing quality assurance experience on etl data warehousing projects of which at least years as a senior test engineer on etl projects years of relational database experience covering writing queries manipulating test data through sql statements experience using testing quality assurance tools such as alm experience using agile scrum tools such as ca agile central aka rally experience using job scheduling software such as tws experience with automating test cases and automation tools such as fitnesse selenium quicktestpro qtp proven experience in testing software following agile scrum methodology experience working in an onsite offshore model with offshore teams strong verbal and written communication skills with the ability to communicate clearly and effectively to varying audiences relevant bachelors degree or equivalent work experience in a related field preferred hands on experience in oracle database technologies application lifecycle management alm experience ca agile central aka rally experience experience with automation tools like fitnesse selenium quicktestpro qtp tws experience proficiency in ms office word excel outlook powerpoint access visio experience in the health care industry experience with hedisthanks and regardssameer sinhamanager talent acquisition contact number e mail',\n",
              " 'id': '50c5def4-47ac-4f0b-b6c5-5fb3e70712d7',\n",
              " 'question': 'what skills do i need?',\n",
              " 'title': '-2656133564625788517'}"
            ]
          },
          "metadata": {},
          "execution_count": 30
        }
      ]
    },
    {
      "cell_type": "code",
      "source": [
        "ds[\"train\"].train_test_split()[\"train\"][0]"
      ],
      "metadata": {
        "id": "CY5N0aZfYE97"
      },
      "execution_count": null,
      "outputs": []
    },
    {
      "cell_type": "code",
      "source": [
        "squad_datasets[\"train\"][0]"
      ],
      "metadata": {
        "id": "Z-qW7ML7Y6vQ"
      },
      "execution_count": null,
      "outputs": []
    },
    {
      "cell_type": "code",
      "source": [
        "!head -c 500 /content/dev-v2.0.json"
      ],
      "metadata": {
        "id": "f2hJKCvYb0t7"
      },
      "execution_count": null,
      "outputs": []
    }
  ]
}